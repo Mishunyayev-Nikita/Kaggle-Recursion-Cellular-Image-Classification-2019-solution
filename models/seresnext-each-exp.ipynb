{
 "cells": [
  {
   "cell_type": "code",
   "execution_count": 1,
   "metadata": {},
   "outputs": [],
   "source": [
    "!trash-empty"
   ]
  },
  {
   "cell_type": "code",
   "execution_count": 2,
   "metadata": {},
   "outputs": [
    {
     "name": "stdout",
     "output_type": "stream",
     "text": [
      "Tue Sep 24 03:47:40 2019       \n",
      "+-----------------------------------------------------------------------------+\n",
      "| NVIDIA-SMI 410.104      Driver Version: 410.104      CUDA Version: 10.0     |\n",
      "|-------------------------------+----------------------+----------------------+\n",
      "| GPU  Name        Persistence-M| Bus-Id        Disp.A | Volatile Uncorr. ECC |\n",
      "| Fan  Temp  Perf  Pwr:Usage/Cap|         Memory-Usage | GPU-Util  Compute M. |\n",
      "|===============================+======================+======================|\n",
      "|   0  Tesla V100-SXM2...  Off  | 00000000:00:04.0 Off |                    0 |\n",
      "| N/A   40C    P0    60W / 300W |      0MiB / 16130MiB |      0%      Default |\n",
      "+-------------------------------+----------------------+----------------------+\n",
      "|   1  Tesla V100-SXM2...  Off  | 00000000:00:05.0 Off |                    0 |\n",
      "| N/A   43C    P0    59W / 300W |      0MiB / 16130MiB |      0%      Default |\n",
      "+-------------------------------+----------------------+----------------------+\n",
      "|   2  Tesla V100-SXM2...  Off  | 00000000:00:06.0 Off |                    0 |\n",
      "| N/A   40C    P0    58W / 300W |      0MiB / 16130MiB |      0%      Default |\n",
      "+-------------------------------+----------------------+----------------------+\n",
      "|   3  Tesla V100-SXM2...  Off  | 00000000:00:07.0 Off |                    0 |\n",
      "| N/A   40C    P0    57W / 300W |      0MiB / 16130MiB |      0%      Default |\n",
      "+-------------------------------+----------------------+----------------------+\n",
      "|   4  Tesla V100-SXM2...  Off  | 00000000:00:08.0 Off |                    0 |\n",
      "| N/A   40C    P0    59W / 300W |      0MiB / 16130MiB |      0%      Default |\n",
      "+-------------------------------+----------------------+----------------------+\n",
      "|   5  Tesla V100-SXM2...  Off  | 00000000:00:09.0 Off |                    0 |\n",
      "| N/A   40C    P0    59W / 300W |      0MiB / 16130MiB |      0%      Default |\n",
      "+-------------------------------+----------------------+----------------------+\n",
      "|   6  Tesla V100-SXM2...  Off  | 00000000:00:0A.0 Off |                    0 |\n",
      "| N/A   40C    P0    59W / 300W |      0MiB / 16130MiB |      0%      Default |\n",
      "+-------------------------------+----------------------+----------------------+\n",
      "|   7  Tesla V100-SXM2...  Off  | 00000000:00:0B.0 Off |                    0 |\n",
      "| N/A   40C    P0    59W / 300W |      0MiB / 16130MiB |      0%      Default |\n",
      "+-------------------------------+----------------------+----------------------+\n",
      "                                                                               \n",
      "+-----------------------------------------------------------------------------+\n",
      "| Processes:                                                       GPU Memory |\n",
      "|  GPU       PID   Type   Process name                             Usage      |\n",
      "|=============================================================================|\n",
      "|  No running processes found                                                 |\n",
      "+-----------------------------------------------------------------------------+\n"
     ]
    }
   ],
   "source": [
    "!nvidia-smi"
   ]
  },
  {
   "cell_type": "code",
   "execution_count": 3,
   "metadata": {},
   "outputs": [],
   "source": [
    "from radam import RAdam, PlainRAdam, AdamW\n",
    "from am_softmax import AMSoftmaxLoss, AngleSimpleLinear"
   ]
  },
  {
   "cell_type": "code",
   "execution_count": 4,
   "metadata": {
    "_cell_guid": "b1076dfc-b9ad-4769-8c92-a6c4dae69d19",
    "_uuid": "8f2839f25d086af736a60e9eeb907d3b93b6e0e5"
   },
   "outputs": [],
   "source": [
    "import os\n",
    "import gc\n",
    "import numpy as np \n",
    "import pandas as pd\n",
    "from PIL import Image\n",
    "from tqdm import tqdm_notebook\n",
    "from sklearn.model_selection import train_test_split\n",
    "from sklearn.metrics import accuracy_score\n",
    "\n",
    "import torch\n",
    "import torch.nn as nn\n",
    "import torch.utils.data as D\n",
    "from torch.optim.lr_scheduler import ExponentialLR\n",
    "from torchvision import models, transforms as T\n",
    "import torch.nn.functional as F\n",
    "\n",
    "import pretrainedmodels\n",
    "\n",
    "import cv2\n",
    "import fastai\n",
    "from fastai.vision import *\n",
    "from fastai.callbacks.tracker import SaveModelCallback\n",
    "\n",
    "import warnings\n",
    "warnings.filterwarnings('ignore')"
   ]
  },
  {
   "cell_type": "markdown",
   "metadata": {},
   "source": [
    "## Config"
   ]
  },
  {
   "cell_type": "code",
   "execution_count": 5,
   "metadata": {},
   "outputs": [],
   "source": [
    "config = {\n",
    "    'SEED': 42,\n",
    "    'CLASSES': 1108,\n",
    "    'PATH_DATA': '/home/tienen/kaggle_dataset_drugs/',\n",
    "    'PATH_WEIGHTS': '/home/jupyter/Nikita/',\n",
    "    'DEVICE': 'cuda',\n",
    "    'BATCH_SIZE': 32,\n",
    "    'VAL_SIZE': 0.05,\n",
    "    'MODEL_NAME': 'SeResNext',\n",
    "    'USE_ANGULAR': True,\n",
    "    'USE_BN': False,\n",
    "    'LR': 1e-4,\n",
    "    'LR_STR': '1e-4',\n",
    "    'TURN_OFF_ON_N_EPOCHS': 1,\n",
    "}"
   ]
  },
  {
   "cell_type": "code",
   "execution_count": 6,
   "metadata": {},
   "outputs": [],
   "source": [
    "def seed_torch(seed=42):\n",
    "    import random; import os\n",
    "    \n",
    "    random.seed(seed)\n",
    "    os.environ['PYTHONHASHSEED'] = str(seed)\n",
    "    np.random.seed(seed)\n",
    "    torch.manual_seed(seed)\n",
    "    torch.cuda.manual_seed(seed)\n",
    "    torch.backends.cudnn.deterministic = True\n",
    "    \n",
    "seed_torch(config['SEED'])"
   ]
  },
  {
   "cell_type": "code",
   "execution_count": 7,
   "metadata": {
    "_kg_hide-input": true,
    "_kg_hide-output": true
   },
   "outputs": [
    {
     "name": "stdout",
     "output_type": "stream",
     "text": [
      "(tensor([0.0229, 0.0611, 0.0396, 0.0391, 0.0219, 0.0356]), tensor([0.0271, 0.0492, 0.0219, 0.0292, 0.0183, 0.0193]))\n"
     ]
    }
   ],
   "source": [
    "#lazy calculation of stats\n",
    "pixel_stats = pd.read_csv(config['PATH_DATA']+'pixel_stats.csv')\n",
    "channel1_mean = pixel_stats.iloc[::6,:]['mean'].mean()\n",
    "channel2_mean = pixel_stats.iloc[1::6,:]['mean'].mean()\n",
    "channel3_mean = pixel_stats.iloc[2::6,:]['mean'].mean()\n",
    "channel4_mean = pixel_stats.iloc[3::6,:]['mean'].mean()\n",
    "channel5_mean = pixel_stats.iloc[4::6,:]['mean'].mean()\n",
    "channel6_mean = pixel_stats.iloc[5::6,:]['mean'].mean()\n",
    "\n",
    "\n",
    "channel1_std = pixel_stats.iloc[::6,:]['std'].mean()\n",
    "channel2_std = pixel_stats.iloc[1::6,:]['std'].mean()\n",
    "channel3_std = pixel_stats.iloc[2::6,:]['std'].mean()\n",
    "channel4_std = pixel_stats.iloc[3::6,:]['std'].mean()\n",
    "channel5_std = pixel_stats.iloc[4::6,:]['std'].mean()\n",
    "channel6_std = pixel_stats.iloc[5::6,:]['std'].mean()\n",
    "stats = (torch.Tensor([channel1_mean,channel2_mean,channel3_mean,channel4_mean,channel5_mean,channel6_mean])/255,torch.Tensor([channel1_std,channel2_std,channel3_std,channel4_std,channel5_std,channel6_std])/255)\n",
    "print(stats)"
   ]
  },
  {
   "cell_type": "code",
   "execution_count": 8,
   "metadata": {},
   "outputs": [],
   "source": [
    "def open_rcic_image(fn):\n",
    "    images = []\n",
    "    for i in range(6):\n",
    "        file_name = fn+str(i+1)+'.png'\n",
    "        im = cv2.imread(file_name)\n",
    "        im = cv2.cvtColor(im, cv2.COLOR_RGB2GRAY)\n",
    "        images.append(im)\n",
    "    image = np.dstack(images)\n",
    "    #print(pil2tensor(image, np.float32).shape)#.div_(255).shape)\n",
    "    return Image(pil2tensor(image, np.float32).div_(255))\n",
    "  \n",
    "class MultiChannelImageList(ImageList):\n",
    "    def open(self, fn):\n",
    "        return open_rcic_image(fn)"
   ]
  },
  {
   "cell_type": "markdown",
   "metadata": {},
   "source": [
    "## Data"
   ]
  },
  {
   "cell_type": "code",
   "execution_count": 9,
   "metadata": {},
   "outputs": [],
   "source": [
    "df = pd.read_csv(config['PATH_DATA']+'/train.csv')\n",
    "df_test = pd.read_csv(config['PATH_DATA']+'/test.csv')\n",
    "\n",
    "df['category'] = df['experiment'].apply(lambda x: x.split('-')[0])\n",
    "df_test['category'] = df_test['experiment'].apply(lambda x: x.split('-')[0])"
   ]
  },
  {
   "cell_type": "code",
   "execution_count": 10,
   "metadata": {},
   "outputs": [],
   "source": [
    "def generate_df(train_df, site):\n",
    "    train_df['path'] = train_df['experiment'].str.cat(train_df['plate'].astype(str).str.cat(train_df['well'],sep='/'),sep='/Plate') + '_s'+str(site) + '_w'\n",
    "    train_df = train_df.drop(columns=['id_code','experiment','plate','well']).reindex(columns=['path','sirna'])\n",
    "    return train_df"
   ]
  },
  {
   "cell_type": "markdown",
   "metadata": {},
   "source": [
    "## Model"
   ]
  },
  {
   "cell_type": "code",
   "execution_count": 11,
   "metadata": {},
   "outputs": [],
   "source": [
    "def seresnext(num_classes=1000, num_channels=6, pretrained=True, use_bn=True, use_angular=False):\n",
    "    if pretrained:\n",
    "        preloaded = pretrainedmodels.se_resnext101_32x4d(num_classes=1000, pretrained='imagenet')\n",
    "    else:\n",
    "        preloaded = pretrainedmodels.se_resnext101_32x4d(num_classes=1000, pretrained=None)\n",
    "    #print(preloaded)\n",
    "    \n",
    "    if use_bn:\n",
    "        preloaded = nn.Sequential(OrderedDict([\n",
    "                        ('norm0', nn.BatchNorm2d(6)),\n",
    "                        ('model', preloaded)\n",
    "        ]))\n",
    "        model = preloaded.model\n",
    "    else:\n",
    "        model = preloaded\n",
    "    \n",
    "    trained_kernel = model.layer0.conv1.weight\n",
    "    new_conv = nn.Sequential(nn.Conv2d(num_channels, 64, kernel_size=(7,7), stride=(2,2), padding=(3,3), bias=False))\n",
    "    with torch.no_grad():\n",
    "        new_conv[0].weight[:,:] = torch.stack([torch.mean(trained_kernel, 1)]*6, dim=1)\n",
    "    model.layer0.conv1 = new_conv\n",
    "    \n",
    "    if use_angular:\n",
    "        fc_input_features = model.last_linear.in_features\n",
    "        model.last_linear = AngleSimpleLinear(fc_input_features*100, num_classes)\n",
    "    else:\n",
    "        fc_input_features = model.last_linear.in_features\n",
    "        model.last_linear = nn.Linear(fc_input_features, num_classes, bias=True)\n",
    "    \n",
    "    return preloaded"
   ]
  },
  {
   "cell_type": "code",
   "execution_count": null,
   "metadata": {},
   "outputs": [],
   "source": []
  },
  {
   "cell_type": "markdown",
   "metadata": {},
   "source": [
    "## Training on each category"
   ]
  },
  {
   "cell_type": "code",
   "execution_count": null,
   "metadata": {},
   "outputs": [
    {
     "name": "stdout",
     "output_type": "stream",
     "text": [
      "\n",
      "========================================\n",
      "CURRENT CATEGORY: HEPG2\n",
      "----------------------------------------\n",
      "last_linear is unfrozen\n"
     ]
    },
    {
     "data": {
      "text/html": [
       "<table border=\"1\" class=\"dataframe\">\n",
       "  <thead>\n",
       "    <tr style=\"text-align: left;\">\n",
       "      <th>epoch</th>\n",
       "      <th>train_loss</th>\n",
       "      <th>valid_loss</th>\n",
       "      <th>accuracy</th>\n",
       "      <th>time</th>\n",
       "    </tr>\n",
       "  </thead>\n",
       "  <tbody>\n",
       "    <tr>\n",
       "      <td>0</td>\n",
       "      <td>15.673158</td>\n",
       "      <td>16.223583</td>\n",
       "      <td>0.378065</td>\n",
       "      <td>09:29</td>\n",
       "    </tr>\n",
       "  </tbody>\n",
       "</table>"
      ],
      "text/plain": [
       "<IPython.core.display.HTML object>"
      ]
     },
     "metadata": {},
     "output_type": "display_data"
    },
    {
     "data": {
      "image/png": "[encoded data removed]",
      "text/plain": [
       "<Figure size 432x288 with 1 Axes>"
      ]
     },
     "metadata": {},
     "output_type": "display_data"
    },
    {
     "name": "stdout",
     "output_type": "stream",
     "text": [
      "Loaded SeResNext_HEPG2_0\n"
     ]
    },
    {
     "data": {
      "text/html": [
       "<table border=\"1\" class=\"dataframe\">\n",
       "  <thead>\n",
       "    <tr style=\"text-align: left;\">\n",
       "      <th>epoch</th>\n",
       "      <th>train_loss</th>\n",
       "      <th>valid_loss</th>\n",
       "      <th>accuracy</th>\n",
       "      <th>time</th>\n",
       "    </tr>\n",
       "  </thead>\n",
       "  <tbody>\n",
       "    <tr>\n",
       "      <td>1</td>\n",
       "      <td>15.215586</td>\n",
       "      <td>15.207768</td>\n",
       "      <td>0.459355</td>\n",
       "      <td>10:57</td>\n",
       "    </tr>\n",
       "    <tr>\n",
       "      <td>2</td>\n",
       "      <td>14.920017</td>\n",
       "      <td>15.755810</td>\n",
       "      <td>0.394839</td>\n",
       "      <td>10:55</td>\n",
       "    </tr>\n",
       "    <tr>\n",
       "      <td>3</td>\n",
       "      <td>14.431163</td>\n",
       "      <td>15.343102</td>\n",
       "      <td>0.443871</td>\n",
       "      <td>10:57</td>\n",
       "    </tr>\n",
       "    <tr>\n",
       "      <td>4</td>\n",
       "      <td>13.786329</td>\n",
       "      <td>15.994952</td>\n",
       "      <td>0.363871</td>\n",
       "      <td>10:55</td>\n",
       "    </tr>\n",
       "    <tr>\n",
       "      <td>5</td>\n",
       "      <td>12.885722</td>\n",
       "      <td>14.646351</td>\n",
       "      <td>0.449032</td>\n",
       "      <td>10:57</td>\n",
       "    </tr>\n",
       "    <tr>\n",
       "      <td>6</td>\n",
       "      <td>11.906466</td>\n",
       "      <td>14.043713</td>\n",
       "      <td>0.476129</td>\n",
       "      <td>10:59</td>\n",
       "    </tr>\n",
       "    <tr>\n",
       "      <td>7</td>\n",
       "      <td>11.156410</td>\n",
       "      <td>13.651104</td>\n",
       "      <td>0.520000</td>\n",
       "      <td>10:58</td>\n",
       "    </tr>\n",
       "    <tr>\n",
       "      <td>8</td>\n",
       "      <td>10.651151</td>\n",
       "      <td>13.474222</td>\n",
       "      <td>0.520000</td>\n",
       "      <td>10:56</td>\n",
       "    </tr>\n",
       "    <tr>\n",
       "      <td>9</td>\n",
       "      <td>10.376499</td>\n",
       "      <td>13.722119</td>\n",
       "      <td>0.508387</td>\n",
       "      <td>10:55</td>\n",
       "    </tr>\n",
       "  </tbody>\n",
       "</table>"
      ],
      "text/plain": [
       "<IPython.core.display.HTML object>"
      ]
     },
     "metadata": {},
     "output_type": "display_data"
    },
    {
     "data": {
      "image/png": "[encoded data removed]",
      "text/plain": [
       "<Figure size 432x288 with 1 Axes>"
      ]
     },
     "metadata": {},
     "output_type": "display_data"
    },
    {
     "name": "stdout",
     "output_type": "stream",
     "text": [
      "\n",
      "========================================\n",
      "CURRENT CATEGORY: HUVEC\n",
      "----------------------------------------\n",
      "last_linear is unfrozen\n"
     ]
    },
    {
     "data": {
      "text/html": [
       "<table border=\"1\" class=\"dataframe\">\n",
       "  <thead>\n",
       "    <tr style=\"text-align: left;\">\n",
       "      <th>epoch</th>\n",
       "      <th>train_loss</th>\n",
       "      <th>valid_loss</th>\n",
       "      <th>accuracy</th>\n",
       "      <th>time</th>\n",
       "    </tr>\n",
       "  </thead>\n",
       "  <tbody>\n",
       "    <tr>\n",
       "      <td>0</td>\n",
       "      <td>7.361227</td>\n",
       "      <td>5.786566</td>\n",
       "      <td>0.851244</td>\n",
       "      <td>19:25</td>\n",
       "    </tr>\n",
       "  </tbody>\n",
       "</table>"
      ],
      "text/plain": [
       "<IPython.core.display.HTML object>"
      ]
     },
     "metadata": {},
     "output_type": "display_data"
    },
    {
     "data": {
      "image/png": "[encoded data removed]",
      "text/plain": [
       "<Figure size 432x288 with 1 Axes>"
      ]
     },
     "metadata": {},
     "output_type": "display_data"
    },
    {
     "name": "stdout",
     "output_type": "stream",
     "text": [
      "Loaded SeResNext_HUVEC_0\n"
     ]
    },
    {
     "data": {
      "text/html": [
       "\n",
       "    <div>\n",
       "        <style>\n",
       "            /* Turns off some styling */\n",
       "            progress {\n",
       "                /* gets rid of default border in Firefox and Opera. */\n",
       "                border: none;\n",
       "                /* Needs to be in here for Safari polyfill so background images work as expected. */\n",
       "                background-size: auto;\n",
       "            }\n",
       "            .progress-bar-interrupted, .progress-bar-interrupted::-webkit-progress-bar {\n",
       "                background: #F44336;\n",
       "            }\n",
       "        </style>\n",
       "      <progress value='7' class='' max='9', style='width:300px; height:20px; vertical-align: middle;'></progress>\n",
       "      77.78% [7/9 2:50:51<48:48]\n",
       "    </div>\n",
       "    \n",
       "<table border=\"1\" class=\"dataframe\">\n",
       "  <thead>\n",
       "    <tr style=\"text-align: left;\">\n",
       "      <th>epoch</th>\n",
       "      <th>train_loss</th>\n",
       "      <th>valid_loss</th>\n",
       "      <th>accuracy</th>\n",
       "      <th>time</th>\n",
       "    </tr>\n",
       "  </thead>\n",
       "  <tbody>\n",
       "    <tr>\n",
       "      <td>1</td>\n",
       "      <td>7.831626</td>\n",
       "      <td>5.948378</td>\n",
       "      <td>0.841629</td>\n",
       "      <td>24:12</td>\n",
       "    </tr>\n",
       "    <tr>\n",
       "      <td>2</td>\n",
       "      <td>8.287343</td>\n",
       "      <td>6.712706</td>\n",
       "      <td>0.787330</td>\n",
       "      <td>24:15</td>\n",
       "    </tr>\n",
       "    <tr>\n",
       "      <td>3</td>\n",
       "      <td>8.336036</td>\n",
       "      <td>6.952856</td>\n",
       "      <td>0.771493</td>\n",
       "      <td>24:20</td>\n",
       "    </tr>\n",
       "    <tr>\n",
       "      <td>4</td>\n",
       "      <td>7.588154</td>\n",
       "      <td>6.218006</td>\n",
       "      <td>0.804864</td>\n",
       "      <td>24:14</td>\n",
       "    </tr>\n",
       "    <tr>\n",
       "      <td>5</td>\n",
       "      <td>6.329955</td>\n",
       "      <td>6.340585</td>\n",
       "      <td>0.792421</td>\n",
       "      <td>24:21</td>\n",
       "    </tr>\n",
       "    <tr>\n",
       "      <td>6</td>\n",
       "      <td>5.708681</td>\n",
       "      <td>5.394986</td>\n",
       "      <td>0.835973</td>\n",
       "      <td>24:19</td>\n",
       "    </tr>\n",
       "    <tr>\n",
       "      <td>7</td>\n",
       "      <td>4.921916</td>\n",
       "      <td>5.282659</td>\n",
       "      <td>0.835407</td>\n",
       "      <td>24:25</td>\n",
       "    </tr>\n",
       "  </tbody>\n",
       "</table><p>\n",
       "\n",
       "    <div>\n",
       "        <style>\n",
       "            /* Turns off some styling */\n",
       "            progress {\n",
       "                /* gets rid of default border in Firefox and Opera. */\n",
       "                border: none;\n",
       "                /* Needs to be in here for Safari polyfill so background images work as expected. */\n",
       "                background-size: auto;\n",
       "            }\n",
       "            .progress-bar-interrupted, .progress-bar-interrupted::-webkit-progress-bar {\n",
       "                background: #F44336;\n",
       "            }\n",
       "        </style>\n",
       "      <progress value='1013' class='' max='1050', style='width:300px; height:20px; vertical-align: middle;'></progress>\n",
       "      96.48% [1013/1050 22:33<00:49 4.3433]\n",
       "    </div>\n",
       "    "
      ],
      "text/plain": [
       "<IPython.core.display.HTML object>"
      ]
     },
     "metadata": {},
     "output_type": "display_data"
    },
    {
     "data": {
      "image/png": "[encoded data removed]",
      "text/plain": [
       "<Figure size 432x288 with 1 Axes>"
      ]
     },
     "metadata": {},
     "output_type": "display_data"
    }
   ],
   "source": [
    "categories = df['category'].unique()\n",
    "best_epoch = 15\n",
    "\n",
    "for category in categories:\n",
    "    category_df = df[df['category'] == category]\n",
    "    train_df_site1 = generate_df(category_df, site=1)\n",
    "    train_df_site2 = generate_df(category_df, site=2)\n",
    "    proc_train_df = train_df_site1.append(train_df_site2)\n",
    "    \n",
    "    data = (MultiChannelImageList.from_df(df=proc_train_df,path='{}train/'.format(config['PATH_DATA']))\n",
    "            .split_by_rand_pct(config['VAL_SIZE'])\n",
    "            .label_from_df()\n",
    "            .transform(get_transforms(do_flip=False), size=512)\n",
    "            .databunch(bs=config['BATCH_SIZE'], num_workers=64)\n",
    "            .normalize(stats)\n",
    "           )\n",
    "\n",
    "    print('\\n' + '=' * 40)\n",
    "    print(\"CURRENT CATEGORY:\", category)\n",
    "    print('-' * 40)\n",
    "\n",
    "    # LOAD MODEL\n",
    "    model = seresnext(num_classes=config['CLASSES'], pretrained=False, use_bn=config['USE_BN'], use_angular=config['USE_ANGULAR'])\n",
    "    model.to(config['DEVICE'])\n",
    "    model.train()\n",
    "    \n",
    "    # freezing\n",
    "    for name, child in model.named_children():\n",
    "        if name == 'last_linear':\n",
    "            print(name + ' is unfrozen')\n",
    "            for param in child.parameters():\n",
    "                param.requires_grad = True\n",
    "        else:\n",
    "            for param in child.parameters():\n",
    "                param.requires_grad = False\n",
    "    \n",
    "    criterion = AMSoftmaxLoss(margin_type='cos', gamma=2., m=0.5, s=30, t=1.)\n",
    "\n",
    "    learn = Learner(data=data,\n",
    "                    model=model,\n",
    "                    opt_func=RAdam,\n",
    "                    loss_func=criterion,\n",
    "                    metrics=[fastai.metrics.accuracy],\n",
    "                    callback_fns=ShowGraph)  # .to_fp16()\n",
    "\n",
    "    learn.model = nn.DataParallel(learn.model)\n",
    "    learn.load('{0}{1}/models/{1}_{2}'.format(config['PATH_WEIGHTS'], config['MODEL_NAME'], best_epoch))\n",
    "    learn.path = Path('{0}_{1}'.format(config['MODEL_NAME'], category)) \n",
    "    checkpoint_callback = SaveModelCallback(learn, name='{0}_{1}'.format(config['MODEL_NAME'], category),\n",
    "                                            every='epoch', monitor='valid_loss')\n",
    "    learn.fit_one_cycle(\n",
    "        config['TURN_OFF_ON_N_EPOCHS'],\n",
    "        max_lr=1e-4,\n",
    "        wd=1e-4,\n",
    "        callbacks=[checkpoint_callback],\n",
    "    )\n",
    "\n",
    "    del learn\n",
    "    gc.collect()\n",
    "    torch.cuda.empty_cache()\n",
    "\n",
    "    # LOAD MODEL\n",
    "    model = seresnext(num_classes=config['CLASSES'], pretrained=False, use_bn=config['USE_BN'], use_angular=config['USE_ANGULAR'])\n",
    "    model.to(config['DEVICE'])\n",
    "    model.train()\n",
    "    \n",
    "    # unfreezing\n",
    "    for name, child in model.named_children():\n",
    "        for param in child.parameters():\n",
    "            param.requires_grad = True\n",
    "    \n",
    "    criterion = AMSoftmaxLoss(margin_type='cos', gamma=2., m=0.5, s=30, t=1.)\n",
    "\n",
    "    learn = Learner(data=data,\n",
    "                    model=model,\n",
    "                    opt_func=RAdam,\n",
    "                    loss_func=criterion,\n",
    "                    metrics=[fastai.metrics.accuracy],\n",
    "                    callback_fns=ShowGraph)  # .to_fp16()\n",
    "\n",
    "    learn.model = nn.DataParallel(learn.model)\n",
    "    learn.load('{0}{1}_{2}/models/{1}_{2}_0'.format(config['PATH_WEIGHTS'], config['MODEL_NAME'], category))\n",
    "    learn.path = Path('{0}_{1}'.format(config['MODEL_NAME'], category)) \n",
    "    checkpoint_callback = SaveModelCallback(learn, name='{0}_{1}'.format(config['MODEL_NAME'], category),\n",
    "                                            every='epoch', monitor='valid_loss')\n",
    "    learn.unfreeze()\n",
    "    learn.fit_one_cycle(\n",
    "        10,\n",
    "        max_lr=1e-4,\n",
    "        wd=1e-4,\n",
    "        callbacks=[checkpoint_callback],\n",
    "        start_epoch=config['TURN_OFF_ON_N_EPOCHS'],\n",
    "    )"
   ]
  },
  {
   "cell_type": "markdown",
   "metadata": {},
   "source": [
    "after reboot notebook"
   ]
  },
  {
   "cell_type": "code",
   "execution_count": 11,
   "metadata": {},
   "outputs": [
    {
     "name": "stdout",
     "output_type": "stream",
     "text": [
      "\n",
      "========================================\n",
      "CURRENT CATEGORY: RPE\n",
      "----------------------------------------\n",
      "last_linear is unfrozen\n"
     ]
    },
    {
     "data": {
      "text/html": [
       "<table border=\"1\" class=\"dataframe\">\n",
       "  <thead>\n",
       "    <tr style=\"text-align: left;\">\n",
       "      <th>epoch</th>\n",
       "      <th>train_loss</th>\n",
       "      <th>valid_loss</th>\n",
       "      <th>accuracy</th>\n",
       "      <th>time</th>\n",
       "    </tr>\n",
       "  </thead>\n",
       "  <tbody>\n",
       "    <tr>\n",
       "      <td>0</td>\n",
       "      <td>12.823612</td>\n",
       "      <td>11.488186</td>\n",
       "      <td>0.656774</td>\n",
       "      <td>10:04</td>\n",
       "    </tr>\n",
       "  </tbody>\n",
       "</table>"
      ],
      "text/plain": [
       "<IPython.core.display.HTML object>"
      ]
     },
     "metadata": {},
     "output_type": "display_data"
    },
    {
     "data": {
      "image/png": "[encoded data removed]",
      "text/plain": [
       "<Figure size 432x288 with 1 Axes>"
      ]
     },
     "metadata": {},
     "output_type": "display_data"
    },
    {
     "name": "stdout",
     "output_type": "stream",
     "text": [
      "Loaded SeResNext_RPE_0\n"
     ]
    },
    {
     "data": {
      "text/html": [
       "<table border=\"1\" class=\"dataframe\">\n",
       "  <thead>\n",
       "    <tr style=\"text-align: left;\">\n",
       "      <th>epoch</th>\n",
       "      <th>train_loss</th>\n",
       "      <th>valid_loss</th>\n",
       "      <th>accuracy</th>\n",
       "      <th>time</th>\n",
       "    </tr>\n",
       "  </thead>\n",
       "  <tbody>\n",
       "    <tr>\n",
       "      <td>1</td>\n",
       "      <td>12.445317</td>\n",
       "      <td>11.191140</td>\n",
       "      <td>0.689032</td>\n",
       "      <td>11:11</td>\n",
       "    </tr>\n",
       "    <tr>\n",
       "      <td>2</td>\n",
       "      <td>12.567170</td>\n",
       "      <td>11.147356</td>\n",
       "      <td>0.670968</td>\n",
       "      <td>11:13</td>\n",
       "    </tr>\n",
       "    <tr>\n",
       "      <td>3</td>\n",
       "      <td>11.953716</td>\n",
       "      <td>11.561272</td>\n",
       "      <td>0.637419</td>\n",
       "      <td>11:14</td>\n",
       "    </tr>\n",
       "    <tr>\n",
       "      <td>4</td>\n",
       "      <td>10.846886</td>\n",
       "      <td>11.356885</td>\n",
       "      <td>0.624516</td>\n",
       "      <td>11:13</td>\n",
       "    </tr>\n",
       "    <tr>\n",
       "      <td>5</td>\n",
       "      <td>9.956311</td>\n",
       "      <td>10.601955</td>\n",
       "      <td>0.654194</td>\n",
       "      <td>11:13</td>\n",
       "    </tr>\n",
       "    <tr>\n",
       "      <td>6</td>\n",
       "      <td>8.931400</td>\n",
       "      <td>9.838839</td>\n",
       "      <td>0.699355</td>\n",
       "      <td>11:15</td>\n",
       "    </tr>\n",
       "    <tr>\n",
       "      <td>7</td>\n",
       "      <td>8.278103</td>\n",
       "      <td>9.522904</td>\n",
       "      <td>0.707097</td>\n",
       "      <td>11:18</td>\n",
       "    </tr>\n",
       "    <tr>\n",
       "      <td>8</td>\n",
       "      <td>7.717646</td>\n",
       "      <td>9.405864</td>\n",
       "      <td>0.710968</td>\n",
       "      <td>11:18</td>\n",
       "    </tr>\n",
       "    <tr>\n",
       "      <td>9</td>\n",
       "      <td>7.725679</td>\n",
       "      <td>9.246017</td>\n",
       "      <td>0.717419</td>\n",
       "      <td>11:17</td>\n",
       "    </tr>\n",
       "  </tbody>\n",
       "</table>"
      ],
      "text/plain": [
       "<IPython.core.display.HTML object>"
      ]
     },
     "metadata": {},
     "output_type": "display_data"
    },
    {
     "data": {
      "image/png": "[encoded data removed]",
      "text/plain": [
       "<Figure size 432x288 with 1 Axes>"
      ]
     },
     "metadata": {},
     "output_type": "display_data"
    },
    {
     "name": "stdout",
     "output_type": "stream",
     "text": [
      "\n",
      "========================================\n",
      "CURRENT CATEGORY: U2OS\n",
      "----------------------------------------\n",
      "last_linear is unfrozen\n"
     ]
    },
    {
     "data": {
      "text/html": [
       "<table border=\"1\" class=\"dataframe\">\n",
       "  <thead>\n",
       "    <tr style=\"text-align: left;\">\n",
       "      <th>epoch</th>\n",
       "      <th>train_loss</th>\n",
       "      <th>valid_loss</th>\n",
       "      <th>accuracy</th>\n",
       "      <th>time</th>\n",
       "    </tr>\n",
       "  </thead>\n",
       "  <tbody>\n",
       "    <tr>\n",
       "      <td>0</td>\n",
       "      <td>17.891972</td>\n",
       "      <td>16.876196</td>\n",
       "      <td>0.325301</td>\n",
       "      <td>04:35</td>\n",
       "    </tr>\n",
       "  </tbody>\n",
       "</table>"
      ],
      "text/plain": [
       "<IPython.core.display.HTML object>"
      ]
     },
     "metadata": {},
     "output_type": "display_data"
    },
    {
     "data": {
      "image/png": "[encoded data removed]",
      "text/plain": [
       "<Figure size 432x288 with 1 Axes>"
      ]
     },
     "metadata": {},
     "output_type": "display_data"
    },
    {
     "name": "stdout",
     "output_type": "stream",
     "text": [
      "Loaded SeResNext_U2OS_0\n"
     ]
    },
    {
     "data": {
      "text/html": [
       "<table border=\"1\" class=\"dataframe\">\n",
       "  <thead>\n",
       "    <tr style=\"text-align: left;\">\n",
       "      <th>epoch</th>\n",
       "      <th>train_loss</th>\n",
       "      <th>valid_loss</th>\n",
       "      <th>accuracy</th>\n",
       "      <th>time</th>\n",
       "    </tr>\n",
       "  </thead>\n",
       "  <tbody>\n",
       "    <tr>\n",
       "      <td>1</td>\n",
       "      <td>17.065233</td>\n",
       "      <td>15.973178</td>\n",
       "      <td>0.430723</td>\n",
       "      <td>05:19</td>\n",
       "    </tr>\n",
       "    <tr>\n",
       "      <td>2</td>\n",
       "      <td>16.519506</td>\n",
       "      <td>15.969664</td>\n",
       "      <td>0.436747</td>\n",
       "      <td>05:15</td>\n",
       "    </tr>\n",
       "    <tr>\n",
       "      <td>3</td>\n",
       "      <td>15.965041</td>\n",
       "      <td>15.762947</td>\n",
       "      <td>0.448795</td>\n",
       "      <td>05:15</td>\n",
       "    </tr>\n",
       "    <tr>\n",
       "      <td>4</td>\n",
       "      <td>15.173866</td>\n",
       "      <td>15.836594</td>\n",
       "      <td>0.412651</td>\n",
       "      <td>05:17</td>\n",
       "    </tr>\n",
       "    <tr>\n",
       "      <td>5</td>\n",
       "      <td>14.308113</td>\n",
       "      <td>15.698045</td>\n",
       "      <td>0.424699</td>\n",
       "      <td>05:17</td>\n",
       "    </tr>\n",
       "    <tr>\n",
       "      <td>6</td>\n",
       "      <td>13.616033</td>\n",
       "      <td>15.223158</td>\n",
       "      <td>0.454819</td>\n",
       "      <td>05:17</td>\n",
       "    </tr>\n",
       "    <tr>\n",
       "      <td>7</td>\n",
       "      <td>12.923342</td>\n",
       "      <td>15.150646</td>\n",
       "      <td>0.451807</td>\n",
       "      <td>05:15</td>\n",
       "    </tr>\n",
       "    <tr>\n",
       "      <td>8</td>\n",
       "      <td>12.576167</td>\n",
       "      <td>15.235222</td>\n",
       "      <td>0.433735</td>\n",
       "      <td>05:16</td>\n",
       "    </tr>\n",
       "    <tr>\n",
       "      <td>9</td>\n",
       "      <td>12.420227</td>\n",
       "      <td>15.231494</td>\n",
       "      <td>0.445783</td>\n",
       "      <td>05:15</td>\n",
       "    </tr>\n",
       "  </tbody>\n",
       "</table>"
      ],
      "text/plain": [
       "<IPython.core.display.HTML object>"
      ]
     },
     "metadata": {},
     "output_type": "display_data"
    },
    {
     "data": {
      "image/png": "[encoded data removed]",
      "text/plain": [
       "<Figure size 432x288 with 1 Axes>"
      ]
     },
     "metadata": {},
     "output_type": "display_data"
    }
   ],
   "source": [
    "categories = df['category'].unique()\n",
    "best_epoch = 15\n",
    "\n",
    "for category in categories:\n",
    "    if category not in ['HEPG2', 'HUVEC']:\n",
    "        category_df = df[df['category'] == category]\n",
    "        train_df_site1 = generate_df(category_df, site=1)\n",
    "        train_df_site2 = generate_df(category_df, site=2)\n",
    "        proc_train_df = train_df_site1.append(train_df_site2)\n",
    "\n",
    "        data = (MultiChannelImageList.from_df(df=proc_train_df,path='{}train/'.format(config['PATH_DATA']))\n",
    "                .split_by_rand_pct(config['VAL_SIZE'])\n",
    "                .label_from_df()\n",
    "                .transform(get_transforms(do_flip=False), size=512)\n",
    "                .databunch(bs=config['BATCH_SIZE'], num_workers=64)\n",
    "                .normalize(stats)\n",
    "               )\n",
    "\n",
    "        print('\\n' + '=' * 40)\n",
    "        print(\"CURRENT CATEGORY:\", category)\n",
    "        print('-' * 40)\n",
    "\n",
    "        # LOAD MODEL\n",
    "        model = seresnext(num_classes=config['CLASSES'], pretrained=False, use_bn=config['USE_BN'], use_angular=config['USE_ANGULAR'])\n",
    "        model.to(config['DEVICE'])\n",
    "        model.train()\n",
    "\n",
    "        # freezing\n",
    "        for name, child in model.named_children():\n",
    "            if name == 'last_linear':\n",
    "                print(name + ' is unfrozen')\n",
    "                for param in child.parameters():\n",
    "                    param.requires_grad = True\n",
    "            else:\n",
    "                for param in child.parameters():\n",
    "                    param.requires_grad = False\n",
    "\n",
    "        criterion = AMSoftmaxLoss(margin_type='cos', gamma=2., m=0.5, s=30, t=1.)\n",
    "\n",
    "        learn = Learner(data=data,\n",
    "                        model=model,\n",
    "                        opt_func=RAdam,\n",
    "                        loss_func=criterion,\n",
    "                        metrics=[fastai.metrics.accuracy],\n",
    "                        callback_fns=ShowGraph)  # .to_fp16()\n",
    "\n",
    "        learn.model = nn.DataParallel(learn.model)\n",
    "        learn.load('{0}{1}/models/{1}_{2}'.format(config['PATH_WEIGHTS'], config['MODEL_NAME'], best_epoch))\n",
    "        learn.path = Path('{0}_{1}'.format(config['MODEL_NAME'], category)) \n",
    "        checkpoint_callback = SaveModelCallback(learn, name='{0}_{1}'.format(config['MODEL_NAME'], category),\n",
    "                                                every='epoch', monitor='valid_loss')\n",
    "        learn.fit_one_cycle(\n",
    "            config['TURN_OFF_ON_N_EPOCHS'],\n",
    "            max_lr=1e-4,\n",
    "            wd=1e-4,\n",
    "            callbacks=[checkpoint_callback],\n",
    "        )\n",
    "\n",
    "        del learn\n",
    "        gc.collect()\n",
    "        torch.cuda.empty_cache()\n",
    "\n",
    "        # LOAD MODEL\n",
    "        model = seresnext(num_classes=config['CLASSES'], pretrained=False, use_bn=config['USE_BN'], use_angular=config['USE_ANGULAR'])\n",
    "        model.to(config['DEVICE'])\n",
    "        model.train()\n",
    "\n",
    "        # unfreezing\n",
    "        for name, child in model.named_children():\n",
    "            for param in child.parameters():\n",
    "                param.requires_grad = True\n",
    "\n",
    "        criterion = AMSoftmaxLoss(margin_type='cos', gamma=2., m=0.5, s=30, t=1.)\n",
    "\n",
    "        learn = Learner(data=data,\n",
    "                        model=model,\n",
    "                        opt_func=RAdam,\n",
    "                        loss_func=criterion,\n",
    "                        metrics=[fastai.metrics.accuracy],\n",
    "                        callback_fns=ShowGraph)  # .to_fp16()\n",
    "\n",
    "        learn.model = nn.DataParallel(learn.model)\n",
    "        learn.load('{0}{1}_{2}/models/{1}_{2}_0'.format(config['PATH_WEIGHTS'], config['MODEL_NAME'], category))\n",
    "        learn.path = Path('{0}_{1}'.format(config['MODEL_NAME'], category)) \n",
    "        checkpoint_callback = SaveModelCallback(learn, name='{0}_{1}'.format(config['MODEL_NAME'], category),\n",
    "                                                every='epoch', monitor='valid_loss')\n",
    "        learn.unfreeze()\n",
    "        learn.fit_one_cycle(\n",
    "            10,\n",
    "            max_lr=1e-4,\n",
    "            wd=1e-4,\n",
    "            callbacks=[checkpoint_callback],\n",
    "            start_epoch=config['TURN_OFF_ON_N_EPOCHS'],\n",
    "        )"
   ]
  },
  {
   "cell_type": "markdown",
   "metadata": {},
   "source": [
    "HEPG2 finetuning"
   ]
  },
  {
   "cell_type": "code",
   "execution_count": null,
   "metadata": {},
   "outputs": [
    {
     "name": "stdout",
     "output_type": "stream",
     "text": [
      "\n",
      "========================================\n",
      "CURRENT CATEGORY: HEPG2\n",
      "----------------------------------------\n",
      "Loaded SeResNext_HEPG2_8\n"
     ]
    },
    {
     "data": {
      "text/html": [
       "\n",
       "    <div>\n",
       "        <style>\n",
       "            /* Turns off some styling */\n",
       "            progress {\n",
       "                /* gets rid of default border in Firefox and Opera. */\n",
       "                border: none;\n",
       "                /* Needs to be in here for Safari polyfill so background images work as expected. */\n",
       "                background-size: auto;\n",
       "            }\n",
       "            .progress-bar-interrupted, .progress-bar-interrupted::-webkit-progress-bar {\n",
       "                background: #F44336;\n",
       "            }\n",
       "        </style>\n",
       "      <progress value='10' class='' max='16', style='width:300px; height:20px; vertical-align: middle;'></progress>\n",
       "      62.50% [10/16 1:56:42<1:10:01]\n",
       "    </div>\n",
       "    \n",
       "<table border=\"1\" class=\"dataframe\">\n",
       "  <thead>\n",
       "    <tr style=\"text-align: left;\">\n",
       "      <th>epoch</th>\n",
       "      <th>train_loss</th>\n",
       "      <th>valid_loss</th>\n",
       "      <th>accuracy</th>\n",
       "      <th>time</th>\n",
       "    </tr>\n",
       "  </thead>\n",
       "  <tbody>\n",
       "    <tr>\n",
       "      <td>9</td>\n",
       "      <td>12.613284</td>\n",
       "      <td>15.614066</td>\n",
       "      <td>0.392258</td>\n",
       "      <td>12:01</td>\n",
       "    </tr>\n",
       "    <tr>\n",
       "      <td>10</td>\n",
       "      <td>11.584652</td>\n",
       "      <td>15.444372</td>\n",
       "      <td>0.396129</td>\n",
       "      <td>11:31</td>\n",
       "    </tr>\n",
       "    <tr>\n",
       "      <td>11</td>\n",
       "      <td>11.006975</td>\n",
       "      <td>14.897854</td>\n",
       "      <td>0.429677</td>\n",
       "      <td>11:27</td>\n",
       "    </tr>\n",
       "    <tr>\n",
       "      <td>12</td>\n",
       "      <td>10.096045</td>\n",
       "      <td>14.231387</td>\n",
       "      <td>0.451613</td>\n",
       "      <td>11:29</td>\n",
       "    </tr>\n",
       "    <tr>\n",
       "      <td>13</td>\n",
       "      <td>9.575453</td>\n",
       "      <td>13.521658</td>\n",
       "      <td>0.507097</td>\n",
       "      <td>11:30</td>\n",
       "    </tr>\n",
       "    <tr>\n",
       "      <td>14</td>\n",
       "      <td>8.908266</td>\n",
       "      <td>14.476613</td>\n",
       "      <td>0.442581</td>\n",
       "      <td>11:31</td>\n",
       "    </tr>\n",
       "    <tr>\n",
       "      <td>15</td>\n",
       "      <td>8.150425</td>\n",
       "      <td>13.291822</td>\n",
       "      <td>0.509677</td>\n",
       "      <td>11:31</td>\n",
       "    </tr>\n",
       "    <tr>\n",
       "      <td>16</td>\n",
       "      <td>7.850404</td>\n",
       "      <td>13.223144</td>\n",
       "      <td>0.523871</td>\n",
       "      <td>11:27</td>\n",
       "    </tr>\n",
       "    <tr>\n",
       "      <td>17</td>\n",
       "      <td>7.304422</td>\n",
       "      <td>13.415399</td>\n",
       "      <td>0.499355</td>\n",
       "      <td>11:30</td>\n",
       "    </tr>\n",
       "    <tr>\n",
       "      <td>18</td>\n",
       "      <td>7.071350</td>\n",
       "      <td>14.046514</td>\n",
       "      <td>0.456774</td>\n",
       "      <td>11:26</td>\n",
       "    </tr>\n",
       "  </tbody>\n",
       "</table><p>\n",
       "\n",
       "    <div>\n",
       "        <style>\n",
       "            /* Turns off some styling */\n",
       "            progress {\n",
       "                /* gets rid of default border in Firefox and Opera. */\n",
       "                border: none;\n",
       "                /* Needs to be in here for Safari polyfill so background images work as expected. */\n",
       "                background-size: auto;\n",
       "            }\n",
       "            .progress-bar-interrupted, .progress-bar-interrupted::-webkit-progress-bar {\n",
       "                background: #F44336;\n",
       "            }\n",
       "        </style>\n",
       "      <progress value='0' class='' max='25', style='width:300px; height:20px; vertical-align: middle;'></progress>\n",
       "      0.00% [0/25 00:00<00:00]\n",
       "    </div>\n",
       "    "
      ],
      "text/plain": [
       "<IPython.core.display.HTML object>"
      ]
     },
     "metadata": {},
     "output_type": "display_data"
    },
    {
     "data": {
      "image/png": "[encoded data removed]",
      "text/plain": [
       "<Figure size 432x288 with 1 Axes>"
      ]
     },
     "metadata": {},
     "output_type": "display_data"
    }
   ],
   "source": [
    "categories = df['category'].unique()\n",
    "\n",
    "for category in categories:\n",
    "    if category == 'HEPG2':\n",
    "        best_epoch = 8\n",
    "    \n",
    "        print('\\n' + '=' * 40)\n",
    "        print(\"CURRENT CATEGORY:\", category)\n",
    "        print('-' * 40)\n",
    "\n",
    "        # DATA    \n",
    "        category_df = df[df['category'] == category]\n",
    "        train_df_site1, train_df_site2 = generate_df(category_df, site=1), generate_df(category_df, site=2)\n",
    "        proc_train_df = train_df_site1.append(train_df_site2)\n",
    "        cat_test_df = df_test[df_test['category'] == category].copy()\n",
    "\n",
    "        data = (MultiChannelImageList.from_df(df=proc_train_df,path='{}train/'.format(config['PATH_DATA']))\n",
    "                .split_by_rand_pct(config['VAL_SIZE'])\n",
    "                .label_from_df()\n",
    "                .transform(get_transforms(do_flip=False), size=512)\n",
    "                .databunch(bs=config['BATCH_SIZE'], num_workers=64)\n",
    "                .normalize(stats)\n",
    "               )\n",
    "\n",
    "        # MODEL\n",
    "        model = seresnext(num_classes=config['CLASSES'], pretrained=False, use_bn=config['USE_BN'], use_angular=config['USE_ANGULAR'])\n",
    "        model.to(config['DEVICE'])\n",
    "\n",
    "        criterion = AMSoftmaxLoss(margin_type='cos', gamma=2., m=0.5, s=30, t=1.)\n",
    "\n",
    "        learn = Learner(data=data,\n",
    "                        model=model,\n",
    "                        opt_func=RAdam,\n",
    "                        loss_func=criterion,\n",
    "                        metrics=[fastai.metrics.accuracy],\n",
    "                        callback_fns=ShowGraph)  # .to_fp16()\n",
    "\n",
    "        learn.model = nn.DataParallel(learn.model)\n",
    "        learn.load('{0}{1}_{2}/models/{1}_{2}_{3}'.format(config['PATH_WEIGHTS'], config['MODEL_NAME'], category, best_epoch))\n",
    "        learn.path = Path('{0}_{1}'.format(config['MODEL_NAME'], category))\n",
    "        learn.unfreeze() \n",
    "        checkpoint_callback = SaveModelCallback(learn, name='{0}_{1}'.format(config['MODEL_NAME'], category),\n",
    "                                                every='epoch', monitor='valid_loss')\n",
    "        learn.fit_one_cycle(\n",
    "            25,\n",
    "            max_lr=1e-4,\n",
    "            wd=1e-4,\n",
    "            callbacks=[checkpoint_callback],\n",
    "            start_epoch=best_epoch+1\n",
    "        )\n",
    "\n",
    "        del learn\n",
    "        gc.collect()\n",
    "        torch.cuda.empty_cache()"
   ]
  },
  {
   "cell_type": "code",
   "execution_count": null,
   "metadata": {},
   "outputs": [],
   "source": []
  },
  {
   "cell_type": "markdown",
   "metadata": {},
   "source": [
    "## Inference"
   ]
  },
  {
   "cell_type": "code",
   "execution_count": 12,
   "metadata": {},
   "outputs": [],
   "source": [
    "categories = df['category'].unique()\n",
    "output_df = []\n",
    "output_predicted = []\n",
    "\n",
    "for category in categories:\n",
    "    if category == 'HEPG2':\n",
    "        best_epoch = 16\n",
    "    if category == 'HUVEC':\n",
    "        best_epoch = 7\n",
    "    if category == 'RPE':\n",
    "        best_epoch = 9\n",
    "    if category == 'U2OS':\n",
    "        best_epoch = 7\n",
    "    \n",
    "    print('\\n' + '=' * 40)\n",
    "    print(\"CURRENT CATEGORY:\", category)\n",
    "    print('-' * 40)\n",
    "    \n",
    "    # DATA    \n",
    "    category_df = df[df['category'] == category]\n",
    "    train_df_site1, train_df_site2 = generate_df(category_df, site=1), generate_df(category_df, site=2)\n",
    "    proc_train_df = train_df_site1.append(train_df_site2)\n",
    "    cat_test_df = df_test[df_test['category'] == category].copy()\n",
    "    \n",
    "    data = (MultiChannelImageList.from_df(df=proc_train_df,path='{}train/'.format(config['PATH_DATA']))\n",
    "            .split_by_rand_pct(config['VAL_SIZE'])\n",
    "            .label_from_df()\n",
    "            .transform(get_transforms(do_flip=False), size=512)\n",
    "            .databunch(bs=config['BATCH_SIZE'], num_workers=64)\n",
    "            .normalize(stats)\n",
    "           )\n",
    "\n",
    "    # MODEL\n",
    "    model = seresnext(num_classes=config['CLASSES'], pretrained=False, use_bn=config['USE_BN'], use_angular=config['USE_ANGULAR'])\n",
    "    model.to(config['DEVICE'])\n",
    "    \n",
    "    criterion = AMSoftmaxLoss(margin_type='cos', gamma=2., m=0.5, s=30, t=1.)\n",
    "\n",
    "    learn = Learner(data=data,\n",
    "                    model=model,\n",
    "                    opt_func=RAdam,\n",
    "                    loss_func=criterion,\n",
    "                    metrics=[fastai.metrics.accuracy],\n",
    "                    callback_fns=ShowGraph)  # .to_fp16()\n",
    "\n",
    "    learn.model = nn.DataParallel(learn.model)\n",
    "    learn.load('{0}{1}_{2}/models/{1}_{2}_{3}'.format(config['PATH_WEIGHTS'], config['MODEL_NAME'], category, best_epoch))\n",
    "    learn.path = Path('{0}_{1}'.format(config['MODEL_NAME'], category))\n",
    "    learn.unfreeze()\n",
    "    \n",
    "    # PREDICTION\n",
    "    test_df_site1 = generate_df(cat_test_df, site=1)\n",
    "    data_test = MultiChannelImageList.from_df(df=test_df_site1, path=config['PATH_DATA']+'test/')\n",
    "    learn.data.add_test(data_test)\n",
    "    preds_site1, _ = learn.get_preds(DatasetType.Test)\n",
    "\n",
    "    test_df_site2 = generate_df(cat_test_df, site=2)\n",
    "    data_test = MultiChannelImageList.from_df(df=test_df_site2, path=config['PATH_DATA']+'test/')\n",
    "    learn.data.add_test(data_test)\n",
    "    preds_site2, _ = learn.get_preds(DatasetType.Test)\n",
    "    \n",
    "    preds = 0.5*(preds_site1.numpy() + preds_site2.numpy())\n",
    "    cat_test_df['sirna'] = np.argmax(preds, axis=1).astype(int)\n",
    "    output_df.append(cat_test_df)\n",
    "    output_predicted.append(preds)\n",
    "    \n",
    "    del learn\n",
    "    gc.collect()\n",
    "    torch.cuda.empty_cache()"
   ]
  },
  {
   "cell_type": "code",
   "execution_count": 13,
   "metadata": {},
   "outputs": [],
   "source": [
    "output_df = pd.concat(output_df)\n",
    "submission = output_df[['id_code', 'sirna']]\n",
    "submission.to_csv('submits/{}_each_exps_best_epoch_by_loss_lr{}.csv'.format(config['MODEL_NAME'], config['LR_STR']),\n",
    "                  index=False, columns=['id_code','sirna'])"
   ]
  },
  {
   "cell_type": "code",
   "execution_count": 14,
   "metadata": {},
   "outputs": [
    {
     "data": {
      "text/plain": [
       "1096"
      ]
     },
     "execution_count": 14,
     "metadata": {},
     "output_type": "execute_result"
    }
   ],
   "source": [
    "len(submission.sirna.unique())"
   ]
  },
  {
   "cell_type": "code",
   "execution_count": 15,
   "metadata": {},
   "outputs": [
    {
     "data": {
      "text/html": [
       "<div>\n",
       "<style scoped>\n",
       "    .dataframe tbody tr th:only-of-type {\n",
       "        vertical-align: middle;\n",
       "    }\n",
       "\n",
       "    .dataframe tbody tr th {\n",
       "        vertical-align: top;\n",
       "    }\n",
       "\n",
       "    .dataframe thead th {\n",
       "        text-align: right;\n",
       "    }\n",
       "</style>\n",
       "<table border=\"1\" class=\"dataframe\">\n",
       "  <thead>\n",
       "    <tr style=\"text-align: right;\">\n",
       "      <th></th>\n",
       "      <th>id_code</th>\n",
       "      <th>sirna</th>\n",
       "    </tr>\n",
       "  </thead>\n",
       "  <tbody>\n",
       "    <tr>\n",
       "      <th>0</th>\n",
       "      <td>HEPG2-08_1_B03</td>\n",
       "      <td>855</td>\n",
       "    </tr>\n",
       "    <tr>\n",
       "      <th>1</th>\n",
       "      <td>HEPG2-08_1_B04</td>\n",
       "      <td>123</td>\n",
       "    </tr>\n",
       "    <tr>\n",
       "      <th>2</th>\n",
       "      <td>HEPG2-08_1_B05</td>\n",
       "      <td>836</td>\n",
       "    </tr>\n",
       "    <tr>\n",
       "      <th>3</th>\n",
       "      <td>HEPG2-08_1_B06</td>\n",
       "      <td>648</td>\n",
       "    </tr>\n",
       "    <tr>\n",
       "      <th>4</th>\n",
       "      <td>HEPG2-08_1_B07</td>\n",
       "      <td>585</td>\n",
       "    </tr>\n",
       "  </tbody>\n",
       "</table>\n",
       "</div>"
      ],
      "text/plain": [
       "          id_code  sirna\n",
       "0  HEPG2-08_1_B03    855\n",
       "1  HEPG2-08_1_B04    123\n",
       "2  HEPG2-08_1_B05    836\n",
       "3  HEPG2-08_1_B06    648\n",
       "4  HEPG2-08_1_B07    585"
      ]
     },
     "execution_count": 15,
     "metadata": {},
     "output_type": "execute_result"
    }
   ],
   "source": [
    "submission.head()"
   ]
  },
  {
   "cell_type": "markdown",
   "metadata": {},
   "source": [
    "## Use plates leak"
   ]
  },
  {
   "cell_type": "code",
   "execution_count": 16,
   "metadata": {},
   "outputs": [],
   "source": [
    "output_predicted = np.concatenate(output_predicted)\n",
    "np.save('predictions/{}_each_exps_best_epoch_by_loss_lr{}'.format(config['MODEL_NAME'], config['LR_STR']),\n",
    "        output_predicted)"
   ]
  },
  {
   "cell_type": "code",
   "execution_count": 38,
   "metadata": {},
   "outputs": [
    {
     "name": "stdout",
     "output_type": "stream",
     "text": [
      "[[4 2 3 1]\n",
      " [1 3 4 2]\n",
      " [2 4 1 3]\n",
      " [1 3 4 2]\n",
      " [3 1 2 4]\n",
      " [1 3 4 2]\n",
      " [1 3 4 2]\n",
      " [2 4 1 3]\n",
      " [1 3 4 2]\n",
      " [4 2 3 1]]\n"
     ]
    }
   ],
   "source": [
    "plate_groups = np.zeros((1108,4), int)\n",
    "for sirna in range(1108):\n",
    "    grp = df.loc[df.sirna==sirna,:].plate.value_counts().index.values\n",
    "    assert len(grp) == 3\n",
    "    plate_groups[sirna,0:3] = grp\n",
    "    plate_groups[sirna,3] = 10 - grp.sum()\n",
    "    \n",
    "print(plate_groups[:10,:])"
   ]
  },
  {
   "cell_type": "code",
   "execution_count": 39,
   "metadata": {},
   "outputs": [],
   "source": [
    "all_test_exp = df_test.experiment.unique()\n",
    "\n",
    "group_plate_probs = np.zeros((len(all_test_exp),4))\n",
    "for idx in range(len(all_test_exp)):\n",
    "    preds = output_df.loc[output_df.experiment == all_test_exp[idx],'sirna'].values\n",
    "    pp_mult = np.zeros((len(preds),1108))\n",
    "    pp_mult[range(len(preds)),preds] = 1\n",
    "    \n",
    "    sub_test = output_df.loc[output_df.experiment == all_test_exp[idx],:]\n",
    "    assert len(pp_mult) == len(sub_test)\n",
    "    \n",
    "    for j in range(4):\n",
    "        mask = np.repeat(plate_groups[np.newaxis, :, j], len(pp_mult), axis=0) == \\\n",
    "               np.repeat(sub_test.plate.values[:, np.newaxis], 1108, axis=1)\n",
    "        \n",
    "        group_plate_probs[idx,j] = np.array(pp_mult)[mask].sum()/len(pp_mult)"
   ]
  },
  {
   "cell_type": "code",
   "execution_count": 40,
   "metadata": {},
   "outputs": [
    {
     "name": "stdout",
     "output_type": "stream",
     "text": [
      "[3 1 0 0 0 0 2 2 3 0 0 3 1 0 0 0 0 3]\n"
     ]
    }
   ],
   "source": [
    "exp_to_group = group_plate_probs.argmax(1)\n",
    "print(exp_to_group)"
   ]
  },
  {
   "cell_type": "code",
   "execution_count": 41,
   "metadata": {},
   "outputs": [],
   "source": [
    "# this is the function that sets 75% of the sirnas to zero according to the selected assignment\n",
    "\n",
    "def select_plate_group(pp_mult, idx):\n",
    "    sub_test = output_df.loc[output_df.experiment == all_test_exp[idx],:]\n",
    "    assert len(pp_mult) == len(sub_test)\n",
    "    mask = np.repeat(plate_groups[np.newaxis, :, exp_to_group[idx]], len(pp_mult), axis=0) != \\\n",
    "           np.repeat(sub_test.plate.values[:, np.newaxis], 1108, axis=1)\n",
    "    pp_mult[mask] = 0\n",
    "    return pp_mult"
   ]
  },
  {
   "cell_type": "code",
   "execution_count": 42,
   "metadata": {},
   "outputs": [],
   "source": [
    "sub = submission.copy()\n",
    "\n",
    "for idx in range(len(all_test_exp)):\n",
    "    indices = (output_df.experiment == all_test_exp[idx])\n",
    "    preds = output_predicted[indices, :].copy()\n",
    "    \n",
    "    preds = select_plate_group(preds, idx)\n",
    "    sub.loc[indices,'sirna'] = preds.argmax(1)"
   ]
  },
  {
   "cell_type": "code",
   "execution_count": 43,
   "metadata": {},
   "outputs": [],
   "source": [
    "sub.to_csv('submits/{}_each_exps_best_epoch_by_loss_lr{}_plates_leak.csv'.format(config['MODEL_NAME'], config['LR_STR']),\n",
    "           index=False, columns=['id_code','sirna'])"
   ]
  },
  {
   "cell_type": "code",
   "execution_count": 44,
   "metadata": {},
   "outputs": [
    {
     "name": "stdout",
     "output_type": "stream",
     "text": [
      "0.6666331607780067\n"
     ]
    }
   ],
   "source": [
    "print((sub.sirna == submission.sirna).mean())"
   ]
  },
  {
   "cell_type": "code",
   "execution_count": 45,
   "metadata": {},
   "outputs": [
    {
     "data": {
      "text/plain": [
       "(1090, 1105)"
      ]
     },
     "execution_count": 45,
     "metadata": {},
     "output_type": "execute_result"
    }
   ],
   "source": [
    "len(submission.sirna.unique()), len(sub.sirna.unique())"
   ]
  },
  {
   "cell_type": "code",
   "execution_count": 46,
   "metadata": {},
   "outputs": [
    {
     "data": {
      "text/html": [
       "<div>\n",
       "<style scoped>\n",
       "    .dataframe tbody tr th:only-of-type {\n",
       "        vertical-align: middle;\n",
       "    }\n",
       "\n",
       "    .dataframe tbody tr th {\n",
       "        vertical-align: top;\n",
       "    }\n",
       "\n",
       "    .dataframe thead th {\n",
       "        text-align: right;\n",
       "    }\n",
       "</style>\n",
       "<table border=\"1\" class=\"dataframe\">\n",
       "  <thead>\n",
       "    <tr style=\"text-align: right;\">\n",
       "      <th></th>\n",
       "      <th>id_code</th>\n",
       "      <th>sirna</th>\n",
       "    </tr>\n",
       "  </thead>\n",
       "  <tbody>\n",
       "    <tr>\n",
       "      <th>0</th>\n",
       "      <td>HEPG2-08_1_B03</td>\n",
       "      <td>855</td>\n",
       "    </tr>\n",
       "    <tr>\n",
       "      <th>1</th>\n",
       "      <td>HEPG2-08_1_B04</td>\n",
       "      <td>892</td>\n",
       "    </tr>\n",
       "    <tr>\n",
       "      <th>2</th>\n",
       "      <td>HEPG2-08_1_B05</td>\n",
       "      <td>836</td>\n",
       "    </tr>\n",
       "    <tr>\n",
       "      <th>3</th>\n",
       "      <td>HEPG2-08_1_B06</td>\n",
       "      <td>249</td>\n",
       "    </tr>\n",
       "    <tr>\n",
       "      <th>4</th>\n",
       "      <td>HEPG2-08_1_B07</td>\n",
       "      <td>878</td>\n",
       "    </tr>\n",
       "  </tbody>\n",
       "</table>\n",
       "</div>"
      ],
      "text/plain": [
       "          id_code  sirna\n",
       "0  HEPG2-08_1_B03    855\n",
       "1  HEPG2-08_1_B04    892\n",
       "2  HEPG2-08_1_B05    836\n",
       "3  HEPG2-08_1_B06    249\n",
       "4  HEPG2-08_1_B07    878"
      ]
     },
     "execution_count": 46,
     "metadata": {},
     "output_type": "execute_result"
    }
   ],
   "source": [
    "sub.head()"
   ]
  },
  {
   "cell_type": "code",
   "execution_count": null,
   "metadata": {},
   "outputs": [],
   "source": []
  },
  {
   "cell_type": "code",
   "execution_count": null,
   "metadata": {},
   "outputs": [],
   "source": []
  }
 ],
 "metadata": {
  "kernelspec": {
   "display_name": "Python 3",
   "language": "python",
   "name": "python3"
  },
  "language_info": {
   "codemirror_mode": {
    "name": "ipython",
    "version": 3
   },
   "file_extension": ".py",
   "mimetype": "text/x-python",
   "name": "python",
   "nbconvert_exporter": "python",
   "pygments_lexer": "ipython3",
   "version": "3.7.3"
  }
 },
 "nbformat": 4,
 "nbformat_minor": 2
}
