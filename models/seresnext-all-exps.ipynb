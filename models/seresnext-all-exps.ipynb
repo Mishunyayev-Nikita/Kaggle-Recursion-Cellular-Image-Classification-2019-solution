{
 "cells": [
  {
   "cell_type": "code",
   "execution_count": 1,
   "metadata": {},
   "outputs": [
    {
     "name": "stdout",
     "output_type": "stream",
     "text": [
      "Wed Sep 25 05:12:03 2019       \n",
      "+-----------------------------------------------------------------------------+\n",
      "| NVIDIA-SMI 410.104      Driver Version: 410.104      CUDA Version: 10.0     |\n",
      "|-------------------------------+----------------------+----------------------+\n",
      "| GPU  Name        Persistence-M| Bus-Id        Disp.A | Volatile Uncorr. ECC |\n",
      "| Fan  Temp  Perf  Pwr:Usage/Cap|         Memory-Usage | GPU-Util  Compute M. |\n",
      "|===============================+======================+======================|\n",
      "|   0  Tesla V100-SXM2...  Off  | 00000000:00:04.0 Off |                    0 |\n",
      "| N/A   47C    P0    77W / 300W |  16034MiB / 16130MiB |     90%      Default |\n",
      "+-------------------------------+----------------------+----------------------+\n",
      "|   1  Tesla V100-SXM2...  Off  | 00000000:00:05.0 Off |                    0 |\n",
      "| N/A   51C    P0    73W / 300W |  11380MiB / 16130MiB |      0%      Default |\n",
      "+-------------------------------+----------------------+----------------------+\n",
      "|   2  Tesla V100-SXM2...  Off  | 00000000:00:06.0 Off |                    0 |\n",
      "| N/A   47C    P0    72W / 300W |  11380MiB / 16130MiB |      0%      Default |\n",
      "+-------------------------------+----------------------+----------------------+\n",
      "|   3  Tesla V100-SXM2...  Off  | 00000000:00:07.0 Off |                    0 |\n",
      "| N/A   47C    P0    70W / 300W |  11380MiB / 16130MiB |      0%      Default |\n",
      "+-------------------------------+----------------------+----------------------+\n",
      "|   4  Tesla V100-SXM2...  Off  | 00000000:00:08.0 Off |                    0 |\n",
      "| N/A   48C    P0    75W / 300W |  11380MiB / 16130MiB |      5%      Default |\n",
      "+-------------------------------+----------------------+----------------------+\n",
      "|   5  Tesla V100-SXM2...  Off  | 00000000:00:09.0 Off |                    0 |\n",
      "| N/A   48C    P0    74W / 300W |  11380MiB / 16130MiB |      0%      Default |\n",
      "+-------------------------------+----------------------+----------------------+\n",
      "|   6  Tesla V100-SXM2...  Off  | 00000000:00:0A.0 Off |                    0 |\n",
      "| N/A   47C    P0    73W / 300W |  11380MiB / 16130MiB |      0%      Default |\n",
      "+-------------------------------+----------------------+----------------------+\n",
      "|   7  Tesla V100-SXM2...  Off  | 00000000:00:0B.0 Off |                    0 |\n",
      "| N/A   46C    P0    73W / 300W |  11380MiB / 16130MiB |      0%      Default |\n",
      "+-------------------------------+----------------------+----------------------+\n",
      "                                                                               \n",
      "+-----------------------------------------------------------------------------+\n",
      "| Processes:                                                       GPU Memory |\n",
      "|  GPU       PID   Type   Process name                             Usage      |\n",
      "|=============================================================================|\n",
      "|    0      7910      C   /opt/anaconda3/bin/python                  15877MiB |\n",
      "|    1      7910      C   /opt/anaconda3/bin/python                  11223MiB |\n",
      "|    2      7910      C   /opt/anaconda3/bin/python                  11223MiB |\n",
      "|    3      7910      C   /opt/anaconda3/bin/python                  11223MiB |\n",
      "|    4      7910      C   /opt/anaconda3/bin/python                  11223MiB |\n",
      "|    5      7910      C   /opt/anaconda3/bin/python                  11223MiB |\n",
      "|    6      7910      C   /opt/anaconda3/bin/python                  11223MiB |\n",
      "|    7      7910      C   /opt/anaconda3/bin/python                  11223MiB |\n",
      "+-----------------------------------------------------------------------------+\n"
     ]
    }
   ],
   "source": [
    "!nvidia-smi"
   ]
  },
  {
   "cell_type": "code",
   "execution_count": 3,
   "metadata": {},
   "outputs": [],
   "source": [
    "import sys\n",
    "package_path = 'EfficientNet-PyTorch/'\n",
    "sys.path.append(package_path)\n",
    "\n",
    "from efficientnet_pytorch import EfficientNet\n",
    "from radam import RAdam, PlainRAdam, AdamW\n",
    "from am_softmax import AMSoftmaxLoss, AngleSimpleLinear"
   ]
  },
  {
   "cell_type": "code",
   "execution_count": 4,
   "metadata": {
    "_cell_guid": "b1076dfc-b9ad-4769-8c92-a6c4dae69d19",
    "_uuid": "8f2839f25d086af736a60e9eeb907d3b93b6e0e5"
   },
   "outputs": [],
   "source": [
    "import os\n",
    "import gc\n",
    "import numpy as np \n",
    "import pandas as pd\n",
    "from PIL import Image\n",
    "from tqdm import tqdm_notebook\n",
    "from sklearn.model_selection import train_test_split\n",
    "from sklearn.metrics import accuracy_score\n",
    "\n",
    "import torch\n",
    "import torch.nn as nn\n",
    "import torch.utils.data as D\n",
    "from torch.optim.lr_scheduler import ExponentialLR\n",
    "from torchvision import models, transforms as T\n",
    "import torch.nn.functional as F\n",
    "\n",
    "import pretrainedmodels\n",
    "\n",
    "import cv2\n",
    "import fastai\n",
    "from fastai.vision import *\n",
    "from fastai.callbacks.tracker import SaveModelCallback\n",
    "\n",
    "import warnings\n",
    "warnings.filterwarnings('ignore')"
   ]
  },
  {
   "cell_type": "markdown",
   "metadata": {},
   "source": [
    "## Config"
   ]
  },
  {
   "cell_type": "code",
   "execution_count": 5,
   "metadata": {},
   "outputs": [],
   "source": [
    "config = {\n",
    "    'SEED': 42,\n",
    "    'CLASSES': 1108,\n",
    "    'PATH_DATA': '/home/tienen/kaggle_dataset_drugs/',\n",
    "    'PATH_WEIGHTS': '/home/jupyter/Nikita/',\n",
    "    'DEVICE': 'cuda',\n",
    "    'BATCH_SIZE': 32,\n",
    "    'VAL_SIZE': 0.05,\n",
    "    'MODEL_NAME': 'SeResNext',\n",
    "    'USE_ANGULAR': True,\n",
    "    'USE_BN': False,\n",
    "    'LR': 1e-4,\n",
    "    'LR_STR': '1e-4',\n",
    "    'TURN_OFF_ON_N_EPOCHS': 0,\n",
    "}"
   ]
  },
  {
   "cell_type": "code",
   "execution_count": 6,
   "metadata": {},
   "outputs": [],
   "source": [
    "def seed_torch(seed=42):\n",
    "    import random; import os\n",
    "    \n",
    "    random.seed(seed)\n",
    "    os.environ['PYTHONHASHSEED'] = str(seed)\n",
    "    np.random.seed(seed)\n",
    "    torch.manual_seed(seed)\n",
    "    torch.cuda.manual_seed(seed)\n",
    "    torch.backends.cudnn.deterministic = True\n",
    "    \n",
    "seed_torch(config['SEED'])"
   ]
  },
  {
   "cell_type": "code",
   "execution_count": 7,
   "metadata": {
    "_kg_hide-input": true,
    "_kg_hide-output": true
   },
   "outputs": [
    {
     "name": "stdout",
     "output_type": "stream",
     "text": [
      "(tensor([0.0229, 0.0611, 0.0396, 0.0391, 0.0219, 0.0356]), tensor([0.0271, 0.0492, 0.0219, 0.0292, 0.0183, 0.0193]))\n"
     ]
    }
   ],
   "source": [
    "#lazy calculation of stats\n",
    "pixel_stats = pd.read_csv(config['PATH_DATA']+'pixel_stats.csv')\n",
    "channel1_mean = pixel_stats.iloc[::6,:]['mean'].mean()\n",
    "channel2_mean = pixel_stats.iloc[1::6,:]['mean'].mean()\n",
    "channel3_mean = pixel_stats.iloc[2::6,:]['mean'].mean()\n",
    "channel4_mean = pixel_stats.iloc[3::6,:]['mean'].mean()\n",
    "channel5_mean = pixel_stats.iloc[4::6,:]['mean'].mean()\n",
    "channel6_mean = pixel_stats.iloc[5::6,:]['mean'].mean()\n",
    "\n",
    "\n",
    "channel1_std = pixel_stats.iloc[::6,:]['std'].mean()\n",
    "channel2_std = pixel_stats.iloc[1::6,:]['std'].mean()\n",
    "channel3_std = pixel_stats.iloc[2::6,:]['std'].mean()\n",
    "channel4_std = pixel_stats.iloc[3::6,:]['std'].mean()\n",
    "channel5_std = pixel_stats.iloc[4::6,:]['std'].mean()\n",
    "channel6_std = pixel_stats.iloc[5::6,:]['std'].mean()\n",
    "stats = (torch.Tensor([channel1_mean,channel2_mean,channel3_mean,channel4_mean,channel5_mean,channel6_mean])/255,torch.Tensor([channel1_std,channel2_std,channel3_std,channel4_std,channel5_std,channel6_std])/255)\n",
    "print(stats)"
   ]
  },
  {
   "cell_type": "code",
   "execution_count": 8,
   "metadata": {},
   "outputs": [],
   "source": [
    "def open_rcic_image(fn):\n",
    "    images = []\n",
    "    for i in range(6):\n",
    "        file_name = fn+str(i+1)+'.png'\n",
    "        im = cv2.imread(file_name)\n",
    "        im = cv2.cvtColor(im, cv2.COLOR_RGB2GRAY)\n",
    "        images.append(im)\n",
    "    image = np.dstack(images)\n",
    "    #print(pil2tensor(image, np.float32).shape)#.div_(255).shape)\n",
    "    return Image(pil2tensor(image, np.float32).div_(255))\n",
    "  \n",
    "class MultiChannelImageList(ImageList):\n",
    "    def open(self, fn):\n",
    "        return open_rcic_image(fn)"
   ]
  },
  {
   "cell_type": "markdown",
   "metadata": {},
   "source": [
    "## Data"
   ]
  },
  {
   "cell_type": "code",
   "execution_count": 9,
   "metadata": {},
   "outputs": [],
   "source": [
    "df = pd.read_csv(config['PATH_DATA']+'/train.csv')\n",
    "df_test = pd.read_csv(config['PATH_DATA']+'/test.csv')\n",
    "\n",
    "df['category'] = df['experiment'].apply(lambda x: x.split('-')[0])\n",
    "df_test['category'] = df_test['experiment'].apply(lambda x: x.split('-')[0])"
   ]
  },
  {
   "cell_type": "code",
   "execution_count": 10,
   "metadata": {},
   "outputs": [],
   "source": [
    "def generate_df(train_df, site):\n",
    "    train_df['path'] = train_df['experiment'].str.cat(train_df['plate'].astype(str).str.cat(train_df['well'],sep='/'),sep='/Plate') + '_s'+str(site) + '_w'\n",
    "    train_df = train_df.drop(columns=['id_code','experiment','plate','well']).reindex(columns=['path','sirna'])\n",
    "    return train_df\n",
    "\n",
    "train_df_site1 = generate_df(df, site=1)\n",
    "train_df_site2 = generate_df(df, site=2)\n",
    "proc_train_df = train_df_site1.append(train_df_site2)"
   ]
  },
  {
   "cell_type": "code",
   "execution_count": 11,
   "metadata": {},
   "outputs": [
    {
     "data": {
      "text/html": [
       "<div>\n",
       "<style scoped>\n",
       "    .dataframe tbody tr th:only-of-type {\n",
       "        vertical-align: middle;\n",
       "    }\n",
       "\n",
       "    .dataframe tbody tr th {\n",
       "        vertical-align: top;\n",
       "    }\n",
       "\n",
       "    .dataframe thead th {\n",
       "        text-align: right;\n",
       "    }\n",
       "</style>\n",
       "<table border=\"1\" class=\"dataframe\">\n",
       "  <thead>\n",
       "    <tr style=\"text-align: right;\">\n",
       "      <th></th>\n",
       "      <th>path</th>\n",
       "      <th>sirna</th>\n",
       "    </tr>\n",
       "  </thead>\n",
       "  <tbody>\n",
       "    <tr>\n",
       "      <th>0</th>\n",
       "      <td>HEPG2-01/Plate1/B03_s1_w</td>\n",
       "      <td>513</td>\n",
       "    </tr>\n",
       "    <tr>\n",
       "      <th>1</th>\n",
       "      <td>HEPG2-01/Plate1/B04_s1_w</td>\n",
       "      <td>840</td>\n",
       "    </tr>\n",
       "  </tbody>\n",
       "</table>\n",
       "</div>"
      ],
      "text/plain": [
       "                       path  sirna\n",
       "0  HEPG2-01/Plate1/B03_s1_w    513\n",
       "1  HEPG2-01/Plate1/B04_s1_w    840"
      ]
     },
     "execution_count": 11,
     "metadata": {},
     "output_type": "execute_result"
    }
   ],
   "source": [
    "proc_train_df.head(2)"
   ]
  },
  {
   "cell_type": "code",
   "execution_count": 12,
   "metadata": {},
   "outputs": [],
   "source": [
    "il = MultiChannelImageList.from_df(df=proc_train_df, path=config['PATH_DATA']+'train/')\n",
    "\n",
    "def image2np(image:Tensor)->np.ndarray:\n",
    "    \"Convert from torch style `image` to numpy/matplotlib style.\"\n",
    "    res = image.cpu().permute(1,2,0).numpy()\n",
    "    if res.shape[2]==1:\n",
    "        return res[...,0]  \n",
    "    elif res.shape[2]>3:\n",
    "        #print(res.shape)\n",
    "        #print(res[...,:3].shape)\n",
    "        return res[...,:3]\n",
    "    else:\n",
    "        return res\n",
    "\n",
    "vision.image.image2np = image2np\n",
    "# il[0]"
   ]
  },
  {
   "cell_type": "code",
   "execution_count": 13,
   "metadata": {},
   "outputs": [],
   "source": [
    "data = (MultiChannelImageList.from_df(df=proc_train_df, path=config['PATH_DATA']+'train/')\n",
    "        .split_by_rand_pct(config['VAL_SIZE'])\n",
    "        .label_from_df()\n",
    "        .transform(get_transforms(do_flip=False), size=512)\n",
    "        .databunch(bs=config['BATCH_SIZE'], num_workers=64)\n",
    "        .normalize(stats)\n",
    "       )\n",
    "\n",
    "# data.show_batch()"
   ]
  },
  {
   "cell_type": "markdown",
   "metadata": {},
   "source": [
    "## Model"
   ]
  },
  {
   "cell_type": "code",
   "execution_count": 14,
   "metadata": {},
   "outputs": [],
   "source": [
    "def seresnext(num_classes=1000, num_channels=6, pretrained=True, use_bn=True, use_angular=False):\n",
    "    if pretrained:\n",
    "        preloaded = pretrainedmodels.se_resnext101_32x4d(num_classes=1000, pretrained='imagenet')\n",
    "    else:\n",
    "        preloaded = pretrainedmodels.se_resnext101_32x4d(num_classes=1000, pretrained=None)\n",
    "    #print(preloaded)\n",
    "    \n",
    "    if use_bn:\n",
    "        preloaded = nn.Sequential(OrderedDict([\n",
    "                        ('norm0', nn.BatchNorm2d(6)),\n",
    "                        ('model', preloaded)\n",
    "        ]))\n",
    "        model = preloaded.model\n",
    "    else:\n",
    "        model = preloaded\n",
    "    \n",
    "    trained_kernel = model.layer0.conv1.weight\n",
    "    new_conv = nn.Sequential(nn.Conv2d(num_channels, 64, kernel_size=(7,7), stride=(2,2), padding=(3,3), bias=False))\n",
    "    with torch.no_grad():\n",
    "        new_conv[0].weight[:,:] = torch.stack([torch.mean(trained_kernel, 1)]*6, dim=1)\n",
    "    model.layer0.conv1 = new_conv\n",
    "    \n",
    "    if use_angular:\n",
    "        fc_input_features = model.last_linear.in_features\n",
    "        model.last_linear = AngleSimpleLinear(fc_input_features*100, num_classes)\n",
    "    else:\n",
    "        fc_input_features = model.last_linear.in_features\n",
    "        model.last_linear = nn.Linear(fc_input_features, num_classes, bias=True)\n",
    "    \n",
    "    return preloaded"
   ]
  },
  {
   "cell_type": "code",
   "execution_count": 15,
   "metadata": {},
   "outputs": [],
   "source": [
    "model = seresnext(num_classes=config['CLASSES'], pretrained=False, use_bn=config['USE_BN'], use_angular=config['USE_ANGULAR'])\n",
    "model.to(config['DEVICE']);"
   ]
  },
  {
   "cell_type": "code",
   "execution_count": null,
   "metadata": {},
   "outputs": [],
   "source": []
  },
  {
   "cell_type": "markdown",
   "metadata": {},
   "source": [
    "## Learner"
   ]
  },
  {
   "cell_type": "code",
   "execution_count": 16,
   "metadata": {},
   "outputs": [],
   "source": [
    "criterion = AMSoftmaxLoss(margin_type='cos', gamma=2., m=0.5, s=30, t=1.)\n",
    "\n",
    "learn = Learner(data=data,\n",
    "                model=model,\n",
    "                opt_func=RAdam,\n",
    "                loss_func=criterion,\n",
    "                metrics=[fastai.metrics.accuracy],\n",
    "                callback_fns=ShowGraph) # .to_fp16()\n",
    "\n",
    "learn.model = nn.DataParallel(learn.model)\n",
    "learn.path = Path(config['MODEL_NAME'])\n",
    "checkpoint_callback = SaveModelCallback(learn, name=config['MODEL_NAME'],\n",
    "                                        every='epoch', monitor='valid_loss')"
   ]
  },
  {
   "cell_type": "markdown",
   "metadata": {},
   "source": [
    "--- "
   ]
  },
  {
   "cell_type": "code",
   "execution_count": null,
   "metadata": {},
   "outputs": [
    {
     "data": {
      "text/html": [
       "\n",
       "    <div>\n",
       "        <style>\n",
       "            /* Turns off some styling */\n",
       "            progress {\n",
       "                /* gets rid of default border in Firefox and Opera. */\n",
       "                border: none;\n",
       "                /* Needs to be in here for Safari polyfill so background images work as expected. */\n",
       "                background-size: auto;\n",
       "            }\n",
       "            .progress-bar-interrupted, .progress-bar-interrupted::-webkit-progress-bar {\n",
       "                background: #F44336;\n",
       "            }\n",
       "        </style>\n",
       "      <progress value='11' class='' max='20', style='width:300px; height:20px; vertical-align: middle;'></progress>\n",
       "      55.00% [11/20 9:09:47<7:29:49]\n",
       "    </div>\n",
       "    \n",
       "<table border=\"1\" class=\"dataframe\">\n",
       "  <thead>\n",
       "    <tr style=\"text-align: left;\">\n",
       "      <th>epoch</th>\n",
       "      <th>train_loss</th>\n",
       "      <th>valid_loss</th>\n",
       "      <th>accuracy</th>\n",
       "      <th>time</th>\n",
       "    </tr>\n",
       "  </thead>\n",
       "  <tbody>\n",
       "    <tr>\n",
       "      <td>0</td>\n",
       "      <td>21.730875</td>\n",
       "      <td>21.680407</td>\n",
       "      <td>0.005478</td>\n",
       "      <td>49:00</td>\n",
       "    </tr>\n",
       "    <tr>\n",
       "      <td>1</td>\n",
       "      <td>21.006649</td>\n",
       "      <td>21.118532</td>\n",
       "      <td>0.023281</td>\n",
       "      <td>49:20</td>\n",
       "    </tr>\n",
       "    <tr>\n",
       "      <td>2</td>\n",
       "      <td>20.194250</td>\n",
       "      <td>20.343077</td>\n",
       "      <td>0.068748</td>\n",
       "      <td>50:08</td>\n",
       "    </tr>\n",
       "    <tr>\n",
       "      <td>3</td>\n",
       "      <td>19.551008</td>\n",
       "      <td>19.648382</td>\n",
       "      <td>0.125445</td>\n",
       "      <td>49:57</td>\n",
       "    </tr>\n",
       "    <tr>\n",
       "      <td>4</td>\n",
       "      <td>18.809809</td>\n",
       "      <td>18.934727</td>\n",
       "      <td>0.206245</td>\n",
       "      <td>49:42</td>\n",
       "    </tr>\n",
       "    <tr>\n",
       "      <td>5</td>\n",
       "      <td>18.192541</td>\n",
       "      <td>18.869965</td>\n",
       "      <td>0.193919</td>\n",
       "      <td>49:53</td>\n",
       "    </tr>\n",
       "    <tr>\n",
       "      <td>6</td>\n",
       "      <td>17.512810</td>\n",
       "      <td>19.112432</td>\n",
       "      <td>0.167899</td>\n",
       "      <td>49:49</td>\n",
       "    </tr>\n",
       "    <tr>\n",
       "      <td>7</td>\n",
       "      <td>16.940035</td>\n",
       "      <td>18.039856</td>\n",
       "      <td>0.259107</td>\n",
       "      <td>50:06</td>\n",
       "    </tr>\n",
       "    <tr>\n",
       "      <td>8</td>\n",
       "      <td>16.181509</td>\n",
       "      <td>17.176718</td>\n",
       "      <td>0.314708</td>\n",
       "      <td>50:24</td>\n",
       "    </tr>\n",
       "    <tr>\n",
       "      <td>9</td>\n",
       "      <td>15.178504</td>\n",
       "      <td>16.458693</td>\n",
       "      <td>0.362366</td>\n",
       "      <td>50:15</td>\n",
       "    </tr>\n",
       "    <tr>\n",
       "      <td>10</td>\n",
       "      <td>14.523232</td>\n",
       "      <td>16.756784</td>\n",
       "      <td>0.320460</td>\n",
       "      <td>50:10</td>\n",
       "    </tr>\n",
       "  </tbody>\n",
       "</table><p>\n",
       "\n",
       "    <div>\n",
       "        <style>\n",
       "            /* Turns off some styling */\n",
       "            progress {\n",
       "                /* gets rid of default border in Firefox and Opera. */\n",
       "                border: none;\n",
       "                /* Needs to be in here for Safari polyfill so background images work as expected. */\n",
       "                background-size: auto;\n",
       "            }\n",
       "            .progress-bar-interrupted, .progress-bar-interrupted::-webkit-progress-bar {\n",
       "                background: #F44336;\n",
       "            }\n",
       "        </style>\n",
       "      <progress value='1327' class='' max='2168', style='width:300px; height:20px; vertical-align: middle;'></progress>\n",
       "      61.21% [1327/2168 29:45<18:51 13.9626]\n",
       "    </div>\n",
       "    "
      ],
      "text/plain": [
       "<IPython.core.display.HTML object>"
      ]
     },
     "metadata": {},
     "output_type": "display_data"
    },
    {
     "data": {
      "image/png": "[encoded data removed]",
      "text/plain": [
       "<Figure size 432x288 with 1 Axes>"
      ]
     },
     "metadata": {},
     "output_type": "display_data"
    }
   ],
   "source": [
    "learn.unfreeze()\n",
    "learn.fit_one_cycle(\n",
    "    20,\n",
    "    max_lr=config['LR'],\n",
    "    wd=1e-4,\n",
    "    callbacks=[checkpoint_callback],\n",
    ")"
   ]
  },
  {
   "cell_type": "markdown",
   "metadata": {},
   "source": [
    "---"
   ]
  },
  {
   "cell_type": "code",
   "execution_count": 16,
   "metadata": {},
   "outputs": [],
   "source": [
    "criterion = AMSoftmaxLoss(margin_type='cos', gamma=2., m=0.5, s=30, t=1.)\n",
    "\n",
    "learn = Learner(data=data,\n",
    "                model=model,\n",
    "                opt_func=RAdam,\n",
    "                loss_func=criterion,\n",
    "                metrics=[fastai.metrics.accuracy],\n",
    "                callback_fns=ShowGraph) # .to_fp16()\n",
    "learn.model = nn.DataParallel(learn.model)\n",
    "learn.path = Path(config['MODEL_NAME'])\n",
    "\n",
    "best_epoch = 10\n",
    "learn.load('{0}{1}/models/{1}_{2}'.format(config['PATH_WEIGHTS'], config['MODEL_NAME'], best_epoch))\n",
    "\n",
    "checkpoint_callback = SaveModelCallback(learn, name=config['MODEL_NAME'],\n",
    "                                        every='epoch', monitor='valid_loss')"
   ]
  },
  {
   "cell_type": "code",
   "execution_count": 17,
   "metadata": {},
   "outputs": [
    {
     "name": "stdout",
     "output_type": "stream",
     "text": [
      "Loaded SeResNext_10\n"
     ]
    },
    {
     "data": {
      "text/html": [
       "<table border=\"1\" class=\"dataframe\">\n",
       "  <thead>\n",
       "    <tr style=\"text-align: left;\">\n",
       "      <th>epoch</th>\n",
       "      <th>train_loss</th>\n",
       "      <th>valid_loss</th>\n",
       "      <th>accuracy</th>\n",
       "      <th>time</th>\n",
       "    </tr>\n",
       "  </thead>\n",
       "  <tbody>\n",
       "    <tr>\n",
       "      <td>11</td>\n",
       "      <td>13.714311</td>\n",
       "      <td>15.257472</td>\n",
       "      <td>0.397425</td>\n",
       "      <td>48:15</td>\n",
       "    </tr>\n",
       "    <tr>\n",
       "      <td>12</td>\n",
       "      <td>12.841400</td>\n",
       "      <td>16.008236</td>\n",
       "      <td>0.357162</td>\n",
       "      <td>48:02</td>\n",
       "    </tr>\n",
       "    <tr>\n",
       "      <td>13</td>\n",
       "      <td>12.319409</td>\n",
       "      <td>14.830042</td>\n",
       "      <td>0.408929</td>\n",
       "      <td>48:26</td>\n",
       "    </tr>\n",
       "    <tr>\n",
       "      <td>14</td>\n",
       "      <td>11.577343</td>\n",
       "      <td>14.373359</td>\n",
       "      <td>0.442618</td>\n",
       "      <td>48:30</td>\n",
       "    </tr>\n",
       "    <tr>\n",
       "      <td>15</td>\n",
       "      <td>10.903573</td>\n",
       "      <td>13.500648</td>\n",
       "      <td>0.476582</td>\n",
       "      <td>48:26</td>\n",
       "    </tr>\n",
       "    <tr>\n",
       "      <td>16</td>\n",
       "      <td>10.300396</td>\n",
       "      <td>14.082786</td>\n",
       "      <td>0.446179</td>\n",
       "      <td>48:18</td>\n",
       "    </tr>\n",
       "    <tr>\n",
       "      <td>17</td>\n",
       "      <td>9.873484</td>\n",
       "      <td>13.982022</td>\n",
       "      <td>0.453300</td>\n",
       "      <td>48:30</td>\n",
       "    </tr>\n",
       "    <tr>\n",
       "      <td>18</td>\n",
       "      <td>9.684184</td>\n",
       "      <td>14.452735</td>\n",
       "      <td>0.434949</td>\n",
       "      <td>48:40</td>\n",
       "    </tr>\n",
       "    <tr>\n",
       "      <td>19</td>\n",
       "      <td>9.451108</td>\n",
       "      <td>13.633254</td>\n",
       "      <td>0.471378</td>\n",
       "      <td>48:41</td>\n",
       "    </tr>\n",
       "  </tbody>\n",
       "</table>"
      ],
      "text/plain": [
       "<IPython.core.display.HTML object>"
      ]
     },
     "metadata": {},
     "output_type": "display_data"
    },
    {
     "data": {
      "image/png": "[encoded data removed]",
      "text/plain": [
       "<Figure size 432x288 with 1 Axes>"
      ]
     },
     "metadata": {},
     "output_type": "display_data"
    }
   ],
   "source": [
    "learn.unfreeze()\n",
    "learn.fit_one_cycle(\n",
    "    20,\n",
    "    max_lr=config['LR'],\n",
    "    wd=1e-4,\n",
    "    callbacks=[checkpoint_callback],\n",
    "    start_epoch=11,\n",
    ")"
   ]
  },
  {
   "cell_type": "code",
   "execution_count": 18,
   "metadata": {},
   "outputs": [
    {
     "data": {
      "image/png": "[encoded data removed]",
      "text/plain": [
       "<Figure size 432x288 with 1 Axes>"
      ]
     },
     "metadata": {
      "needs_background": "light"
     },
     "output_type": "display_data"
    }
   ],
   "source": [
    "learn.recorder.plot_lr()"
   ]
  },
  {
   "cell_type": "code",
   "execution_count": null,
   "metadata": {},
   "outputs": [],
   "source": []
  },
  {
   "cell_type": "code",
   "execution_count": null,
   "metadata": {},
   "outputs": [],
   "source": []
  },
  {
   "cell_type": "markdown",
   "metadata": {},
   "source": [
    "## Inference"
   ]
  },
  {
   "cell_type": "code",
   "execution_count": 57,
   "metadata": {},
   "outputs": [],
   "source": [
    "best_epoch = 13\n",
    "learn.load('{0}{1}/models/{1}_{2}'.format(config['PATH_WEIGHTS'], config['MODEL_NAME'], best_epoch));"
   ]
  },
  {
   "cell_type": "code",
   "execution_count": 58,
   "metadata": {},
   "outputs": [],
   "source": [
    "test_df_site1 = generate_df(df_test, site=1)\n",
    "data_test = MultiChannelImageList.from_df(df=test_df_site1, path=config['PATH_DATA']+'test/')\n",
    "learn.data.add_test(data_test)\n",
    "\n",
    "preds_site1, _ = learn.get_preds(DatasetType.Test)\n",
    "\n",
    "test_df_site2 = generate_df(df_test, site=2)\n",
    "data_test = MultiChannelImageList.from_df(df=test_df_site2, path=config['PATH_DATA']+'test/')\n",
    "learn.data.add_test(data_test)\n",
    "\n",
    "preds_site2, _ = learn.get_preds(DatasetType.Test)"
   ]
  },
  {
   "cell_type": "code",
   "execution_count": 59,
   "metadata": {},
   "outputs": [],
   "source": [
    "predictions = 0.5*(preds_site1.numpy() + preds_site2.numpy())"
   ]
  },
  {
   "cell_type": "code",
   "execution_count": 60,
   "metadata": {},
   "outputs": [],
   "source": [
    "df_test['sirna'] = np.argmax(predictions, axis=1).astype(int)\n",
    "submission = df_test.copy()\n",
    "submission.to_csv('submits/{}_{}epoch_lr{}.csv'.format(config['MODEL_NAME'], best_epoch, config['LR_STR']),\n",
    "                  index=False, columns=['id_code','sirna'])"
   ]
  },
  {
   "cell_type": "code",
   "execution_count": 61,
   "metadata": {},
   "outputs": [
    {
     "data": {
      "text/html": [
       "<div>\n",
       "<style scoped>\n",
       "    .dataframe tbody tr th:only-of-type {\n",
       "        vertical-align: middle;\n",
       "    }\n",
       "\n",
       "    .dataframe tbody tr th {\n",
       "        vertical-align: top;\n",
       "    }\n",
       "\n",
       "    .dataframe thead th {\n",
       "        text-align: right;\n",
       "    }\n",
       "</style>\n",
       "<table border=\"1\" class=\"dataframe\">\n",
       "  <thead>\n",
       "    <tr style=\"text-align: right;\">\n",
       "      <th></th>\n",
       "      <th>id_code</th>\n",
       "      <th>experiment</th>\n",
       "      <th>plate</th>\n",
       "      <th>well</th>\n",
       "      <th>category</th>\n",
       "      <th>path</th>\n",
       "      <th>sirna</th>\n",
       "    </tr>\n",
       "  </thead>\n",
       "  <tbody>\n",
       "    <tr>\n",
       "      <th>0</th>\n",
       "      <td>HEPG2-08_1_B03</td>\n",
       "      <td>HEPG2-08</td>\n",
       "      <td>1</td>\n",
       "      <td>B03</td>\n",
       "      <td>HEPG2</td>\n",
       "      <td>HEPG2-08/Plate1/B03_s2_w</td>\n",
       "      <td>855</td>\n",
       "    </tr>\n",
       "    <tr>\n",
       "      <th>1</th>\n",
       "      <td>HEPG2-08_1_B04</td>\n",
       "      <td>HEPG2-08</td>\n",
       "      <td>1</td>\n",
       "      <td>B04</td>\n",
       "      <td>HEPG2</td>\n",
       "      <td>HEPG2-08/Plate1/B04_s2_w</td>\n",
       "      <td>637</td>\n",
       "    </tr>\n",
       "    <tr>\n",
       "      <th>2</th>\n",
       "      <td>HEPG2-08_1_B05</td>\n",
       "      <td>HEPG2-08</td>\n",
       "      <td>1</td>\n",
       "      <td>B05</td>\n",
       "      <td>HEPG2</td>\n",
       "      <td>HEPG2-08/Plate1/B05_s2_w</td>\n",
       "      <td>506</td>\n",
       "    </tr>\n",
       "    <tr>\n",
       "      <th>3</th>\n",
       "      <td>HEPG2-08_1_B06</td>\n",
       "      <td>HEPG2-08</td>\n",
       "      <td>1</td>\n",
       "      <td>B06</td>\n",
       "      <td>HEPG2</td>\n",
       "      <td>HEPG2-08/Plate1/B06_s2_w</td>\n",
       "      <td>894</td>\n",
       "    </tr>\n",
       "    <tr>\n",
       "      <th>4</th>\n",
       "      <td>HEPG2-08_1_B07</td>\n",
       "      <td>HEPG2-08</td>\n",
       "      <td>1</td>\n",
       "      <td>B07</td>\n",
       "      <td>HEPG2</td>\n",
       "      <td>HEPG2-08/Plate1/B07_s2_w</td>\n",
       "      <td>711</td>\n",
       "    </tr>\n",
       "  </tbody>\n",
       "</table>\n",
       "</div>"
      ],
      "text/plain": [
       "          id_code experiment  plate well category                      path  \\\n",
       "0  HEPG2-08_1_B03   HEPG2-08      1  B03    HEPG2  HEPG2-08/Plate1/B03_s2_w   \n",
       "1  HEPG2-08_1_B04   HEPG2-08      1  B04    HEPG2  HEPG2-08/Plate1/B04_s2_w   \n",
       "2  HEPG2-08_1_B05   HEPG2-08      1  B05    HEPG2  HEPG2-08/Plate1/B05_s2_w   \n",
       "3  HEPG2-08_1_B06   HEPG2-08      1  B06    HEPG2  HEPG2-08/Plate1/B06_s2_w   \n",
       "4  HEPG2-08_1_B07   HEPG2-08      1  B07    HEPG2  HEPG2-08/Plate1/B07_s2_w   \n",
       "\n",
       "   sirna  \n",
       "0    855  \n",
       "1    637  \n",
       "2    506  \n",
       "3    894  \n",
       "4    711  "
      ]
     },
     "execution_count": 61,
     "metadata": {},
     "output_type": "execute_result"
    }
   ],
   "source": [
    "submission.head()"
   ]
  },
  {
   "cell_type": "markdown",
   "metadata": {},
   "source": [
    "## Plates Leak"
   ]
  },
  {
   "cell_type": "code",
   "execution_count": 62,
   "metadata": {},
   "outputs": [
    {
     "name": "stdout",
     "output_type": "stream",
     "text": [
      "[[4 2 3 1]\n",
      " [1 3 4 2]\n",
      " [2 4 1 3]\n",
      " [1 3 4 2]\n",
      " [3 1 2 4]\n",
      " [1 3 4 2]\n",
      " [1 3 4 2]\n",
      " [2 4 1 3]\n",
      " [1 3 4 2]\n",
      " [4 2 3 1]]\n"
     ]
    }
   ],
   "source": [
    "plate_groups = np.zeros((1108,4), int)\n",
    "for sirna in range(1108):\n",
    "    grp = df.loc[df.sirna==sirna,:].plate.value_counts().index.values\n",
    "    assert len(grp) == 3\n",
    "    plate_groups[sirna,0:3] = grp\n",
    "    plate_groups[sirna,3] = 10 - grp.sum()\n",
    "    \n",
    "print(plate_groups[:10,:])"
   ]
  },
  {
   "cell_type": "code",
   "execution_count": 63,
   "metadata": {},
   "outputs": [],
   "source": [
    "all_test_exp = df_test.experiment.unique()\n",
    "\n",
    "group_plate_probs = np.zeros((len(all_test_exp),4))\n",
    "for idx in range(len(all_test_exp)):\n",
    "    preds = df_test.loc[df_test.experiment == all_test_exp[idx],'sirna'].values\n",
    "    pp_mult = np.zeros((len(preds),1108))\n",
    "    pp_mult[range(len(preds)),preds] = 1\n",
    "    \n",
    "    sub_test = df_test.loc[df_test.experiment == all_test_exp[idx],:]\n",
    "    assert len(pp_mult) == len(sub_test)\n",
    "    \n",
    "    for j in range(4):\n",
    "        mask = np.repeat(plate_groups[np.newaxis, :, j], len(pp_mult), axis=0) == \\\n",
    "               np.repeat(sub_test.plate.values[:, np.newaxis], 1108, axis=1)\n",
    "        \n",
    "        group_plate_probs[idx,j] = np.array(pp_mult)[mask].sum()/len(pp_mult)"
   ]
  },
  {
   "cell_type": "code",
   "execution_count": 64,
   "metadata": {},
   "outputs": [
    {
     "name": "stdout",
     "output_type": "stream",
     "text": [
      "[3 1 0 0 0 0 2 2 3 0 0 3 1 0 0 0 0 3]\n"
     ]
    }
   ],
   "source": [
    "exp_to_group = group_plate_probs.argmax(1)\n",
    "print(exp_to_group)"
   ]
  },
  {
   "cell_type": "code",
   "execution_count": 65,
   "metadata": {},
   "outputs": [],
   "source": [
    "# this is the function that sets 75% of the sirnas to zero according to the selected assignment\n",
    "\n",
    "def select_plate_group(pp_mult, idx):\n",
    "    sub_test = df_test.loc[df_test.experiment == all_test_exp[idx],:]\n",
    "    assert len(pp_mult) == len(sub_test)\n",
    "    mask = np.repeat(plate_groups[np.newaxis, :, exp_to_group[idx]], len(pp_mult), axis=0) != \\\n",
    "           np.repeat(sub_test.plate.values[:, np.newaxis], 1108, axis=1)\n",
    "    pp_mult[mask] = 0\n",
    "    return pp_mult"
   ]
  },
  {
   "cell_type": "code",
   "execution_count": 66,
   "metadata": {},
   "outputs": [],
   "source": [
    "sub = submission.copy()\n",
    "\n",
    "for idx in range(len(all_test_exp)):\n",
    "    indices = (df_test.experiment == all_test_exp[idx])\n",
    "    preds_2 = predictions[indices, :].copy()\n",
    "    \n",
    "    preds_2 = select_plate_group(preds_2, idx)\n",
    "    sub.loc[indices,'sirna'] = preds_2.argmax(1)"
   ]
  },
  {
   "cell_type": "code",
   "execution_count": 67,
   "metadata": {},
   "outputs": [
    {
     "data": {
      "text/plain": [
       "0.5419912549630598"
      ]
     },
     "execution_count": 67,
     "metadata": {},
     "output_type": "execute_result"
    }
   ],
   "source": [
    "(sub.sirna == submission.sirna).mean()"
   ]
  },
  {
   "cell_type": "code",
   "execution_count": 68,
   "metadata": {},
   "outputs": [],
   "source": [
    "sub.to_csv('submits/{}_{}epochs_lr{}_plates_leak.csv'.format(config['MODEL_NAME'], best_epoch, config['LR_STR']),\n",
    "           index=False, columns=['id_code','sirna'])"
   ]
  },
  {
   "cell_type": "code",
   "execution_count": 69,
   "metadata": {},
   "outputs": [
    {
     "data": {
      "text/plain": [
       "(1054, 1097)"
      ]
     },
     "execution_count": 69,
     "metadata": {},
     "output_type": "execute_result"
    }
   ],
   "source": [
    "len(submission.sirna.unique()), len(sub.sirna.unique())"
   ]
  },
  {
   "cell_type": "code",
   "execution_count": 70,
   "metadata": {},
   "outputs": [
    {
     "data": {
      "text/html": [
       "<div>\n",
       "<style scoped>\n",
       "    .dataframe tbody tr th:only-of-type {\n",
       "        vertical-align: middle;\n",
       "    }\n",
       "\n",
       "    .dataframe tbody tr th {\n",
       "        vertical-align: top;\n",
       "    }\n",
       "\n",
       "    .dataframe thead th {\n",
       "        text-align: right;\n",
       "    }\n",
       "</style>\n",
       "<table border=\"1\" class=\"dataframe\">\n",
       "  <thead>\n",
       "    <tr style=\"text-align: right;\">\n",
       "      <th></th>\n",
       "      <th>id_code</th>\n",
       "      <th>experiment</th>\n",
       "      <th>plate</th>\n",
       "      <th>well</th>\n",
       "      <th>category</th>\n",
       "      <th>path</th>\n",
       "      <th>sirna</th>\n",
       "    </tr>\n",
       "  </thead>\n",
       "  <tbody>\n",
       "    <tr>\n",
       "      <th>0</th>\n",
       "      <td>HEPG2-08_1_B03</td>\n",
       "      <td>HEPG2-08</td>\n",
       "      <td>1</td>\n",
       "      <td>B03</td>\n",
       "      <td>HEPG2</td>\n",
       "      <td>HEPG2-08/Plate1/B03_s2_w</td>\n",
       "      <td>855</td>\n",
       "    </tr>\n",
       "    <tr>\n",
       "      <th>1</th>\n",
       "      <td>HEPG2-08_1_B04</td>\n",
       "      <td>HEPG2-08</td>\n",
       "      <td>1</td>\n",
       "      <td>B04</td>\n",
       "      <td>HEPG2</td>\n",
       "      <td>HEPG2-08/Plate1/B04_s2_w</td>\n",
       "      <td>332</td>\n",
       "    </tr>\n",
       "    <tr>\n",
       "      <th>2</th>\n",
       "      <td>HEPG2-08_1_B05</td>\n",
       "      <td>HEPG2-08</td>\n",
       "      <td>1</td>\n",
       "      <td>B05</td>\n",
       "      <td>HEPG2</td>\n",
       "      <td>HEPG2-08/Plate1/B05_s2_w</td>\n",
       "      <td>836</td>\n",
       "    </tr>\n",
       "    <tr>\n",
       "      <th>3</th>\n",
       "      <td>HEPG2-08_1_B06</td>\n",
       "      <td>HEPG2-08</td>\n",
       "      <td>1</td>\n",
       "      <td>B06</td>\n",
       "      <td>HEPG2</td>\n",
       "      <td>HEPG2-08/Plate1/B06_s2_w</td>\n",
       "      <td>609</td>\n",
       "    </tr>\n",
       "    <tr>\n",
       "      <th>4</th>\n",
       "      <td>HEPG2-08_1_B07</td>\n",
       "      <td>HEPG2-08</td>\n",
       "      <td>1</td>\n",
       "      <td>B07</td>\n",
       "      <td>HEPG2</td>\n",
       "      <td>HEPG2-08/Plate1/B07_s2_w</td>\n",
       "      <td>711</td>\n",
       "    </tr>\n",
       "  </tbody>\n",
       "</table>\n",
       "</div>"
      ],
      "text/plain": [
       "          id_code experiment  plate well category                      path  \\\n",
       "0  HEPG2-08_1_B03   HEPG2-08      1  B03    HEPG2  HEPG2-08/Plate1/B03_s2_w   \n",
       "1  HEPG2-08_1_B04   HEPG2-08      1  B04    HEPG2  HEPG2-08/Plate1/B04_s2_w   \n",
       "2  HEPG2-08_1_B05   HEPG2-08      1  B05    HEPG2  HEPG2-08/Plate1/B05_s2_w   \n",
       "3  HEPG2-08_1_B06   HEPG2-08      1  B06    HEPG2  HEPG2-08/Plate1/B06_s2_w   \n",
       "4  HEPG2-08_1_B07   HEPG2-08      1  B07    HEPG2  HEPG2-08/Plate1/B07_s2_w   \n",
       "\n",
       "   sirna  \n",
       "0    855  \n",
       "1    332  \n",
       "2    836  \n",
       "3    609  \n",
       "4    711  "
      ]
     },
     "execution_count": 70,
     "metadata": {},
     "output_type": "execute_result"
    }
   ],
   "source": [
    "sub.head()"
   ]
  },
  {
   "cell_type": "code",
   "execution_count": null,
   "metadata": {},
   "outputs": [],
   "source": []
  }
 ],
 "metadata": {
  "kernelspec": {
   "display_name": "Python 3",
   "language": "python",
   "name": "python3"
  },
  "language_info": {
   "codemirror_mode": {
    "name": "ipython",
    "version": 3
   },
   "file_extension": ".py",
   "mimetype": "text/x-python",
   "name": "python",
   "nbconvert_exporter": "python",
   "pygments_lexer": "ipython3",
   "version": "3.7.3"
  }
 },
 "nbformat": 4,
 "nbformat_minor": 2
}
